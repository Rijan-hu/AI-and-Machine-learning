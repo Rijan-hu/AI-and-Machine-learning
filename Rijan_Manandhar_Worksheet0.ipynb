{
  "nbformat": 4,
  "nbformat_minor": 0,
  "metadata": {
    "colab": {
      "provenance": []
    },
    "kernelspec": {
      "name": "python3",
      "display_name": "Python 3"
    },
    "language_info": {
      "name": "python"
    }
  },
  "cells": [
    {
      "cell_type": "markdown",
      "source": [
        "# WORKSHEET 0"
      ],
      "metadata": {
        "id": "Qde1YEJlyL8v"
      }
    },
    {
      "cell_type": "markdown",
      "source": [
        "### 3.1 About Python"
      ],
      "metadata": {
        "id": "g4kb6rwUy70a"
      }
    },
    {
      "cell_type": "markdown",
      "source": [
        "Python Version Check"
      ],
      "metadata": {
        "id": "yxbozKBhyopx"
      }
    },
    {
      "cell_type": "code",
      "execution_count": 1,
      "metadata": {
        "colab": {
          "base_uri": "https://localhost:8080/"
        },
        "id": "7XgfVMeDyKX5",
        "outputId": "c64cf1f6-3cb3-4aaa-ddc8-5f99ab7e71ad"
      },
      "outputs": [
        {
          "output_type": "stream",
          "name": "stdout",
          "text": [
            "Hello, World!\n",
            "Python version: 3.11.11 (main, Dec  4 2024, 08:55:07) [GCC 11.4.0]\n"
          ]
        }
      ],
      "source": [
        "import sys\n",
        "\n",
        "# Check Python version\n",
        "if sys.version_info.major == 3 and sys.version_info.minor >= 6:\n",
        "    print(\"Hello, World!\")\n",
        "    print(f\"Python version: {sys.version}\")\n",
        "else:\n",
        "    print(\"Please use Python 3.6 or higher.\")\n"
      ]
    },
    {
      "cell_type": "markdown",
      "source": [
        "3.2 Data Types in Python\n"
      ],
      "metadata": {
        "id": "mRnRlhEPzCO9"
      }
    },
    {
      "cell_type": "markdown",
      "source": [
        "Difference between Mutable and Immutable Data Types."
      ],
      "metadata": {
        "id": "1VyeYNnazGfT"
      }
    },
    {
      "cell_type": "code",
      "source": [
        "# Mutable Data Type Example (List)\n",
        "my_list = [1, 2, 3]\n",
        "print(\"Original List:\", my_list)\n",
        "# Modifying the list (changing contents)\n",
        "my_list.append(4)\n",
        "print(\"Modified List:\", my_list)\n",
        "# Immutable Data Type Example (Tuple)\n",
        "my_tuple = (1, 2, 3)\n",
        "print(\"Original Tuple:\", my_tuple)"
      ],
      "metadata": {
        "colab": {
          "base_uri": "https://localhost:8080/"
        },
        "id": "wnnPGY2ezFeg",
        "outputId": "d11c4040-96fb-4cb2-9a31-e37ab4e86753"
      },
      "execution_count": 2,
      "outputs": [
        {
          "output_type": "stream",
          "name": "stdout",
          "text": [
            "Original List: [1, 2, 3]\n",
            "Modified List: [1, 2, 3, 4]\n",
            "Original Tuple: (1, 2, 3)\n"
          ]
        }
      ]
    },
    {
      "cell_type": "markdown",
      "source": [
        "Once a tuple is created, its elements cannot be modified, added, or removed."
      ],
      "metadata": {
        "id": "JrQQHelozl7R"
      }
    },
    {
      "cell_type": "markdown",
      "source": [
        "3.2.1 Some Common Data Types in Python:\n",
        "Data Types - Numeric"
      ],
      "metadata": {
        "id": "7UysDa3BzvJX"
      }
    },
    {
      "cell_type": "code",
      "source": [
        "age = 23 #int\n",
        "pi = 3.14 #float\n",
        "temperature = -5.5 #float\n",
        "complex_number = 2+3j #COMPLEX DATA TYPE\n",
        "print(\"data type of variable age = \", type(age))\n",
        "print(\"data type of variable pi = \", type(pi))\n",
        "print(\"data type of variable temperature = \", type(temperature))\n",
        "print(\"Data type of variable complex_number =\", type(complex_number))"
      ],
      "metadata": {
        "colab": {
          "base_uri": "https://localhost:8080/"
        },
        "id": "UZ5w4ya7zz9W",
        "outputId": "c2302631-a93a-4539-c96c-349037812859"
      },
      "execution_count": 3,
      "outputs": [
        {
          "output_type": "stream",
          "name": "stdout",
          "text": [
            "data type of variable age =  <class 'int'>\n",
            "data type of variable pi =  <class 'float'>\n",
            "data type of variable temperature =  <class 'float'>\n",
            "Data type of variable complex_number = <class 'complex'>\n"
          ]
        }
      ]
    },
    {
      "cell_type": "markdown",
      "source": [
        "SEQUENCE: Data Types - Sequence - String"
      ],
      "metadata": {
        "id": "U0RWpIQp0dyU"
      }
    },
    {
      "cell_type": "code",
      "source": [
        "name = \"Alice\"\n",
        "greeting = 'Hello'\n",
        "address = \"123 Main St\"\n",
        "print(\"data type of the variable name = \",type(name))\n",
        "print(\"data type of the variable greeting = \",type(greeting))\n",
        "print(\"data type of the variable address = \",type(address))\n",
        "# slice only one element\n",
        "print(\"The first letter of the name is:\", name[0])\n",
        "print(\"The last letter of the name is:\", name[-1])\n",
        "# slice a range of elements\n",
        "print(\"The second letter to the fourth of the name is:\", name[1:4])\n",
        "print(\"The first two letters of the name are:\", name[:2])\n",
        "print(\"Substring starting from the third letter is:\", name[2:])"
      ],
      "metadata": {
        "colab": {
          "base_uri": "https://localhost:8080/"
        },
        "id": "ZHmqiBVS0hWM",
        "outputId": "b22dc62d-7131-4779-d52d-e1a7aec5e5e0"
      },
      "execution_count": 4,
      "outputs": [
        {
          "output_type": "stream",
          "name": "stdout",
          "text": [
            "data type of the variable name =  <class 'str'>\n",
            "data type of the variable greeting =  <class 'str'>\n",
            "data type of the variable address =  <class 'str'>\n",
            "The first letter of the name is: A\n",
            "The last letter of the name is: e\n",
            "The second letter to the fourth of the name is: lic\n",
            "The first two letters of the name are: Al\n",
            "Substring starting from the third letter is: ice\n"
          ]
        }
      ]
    },
    {
      "cell_type": "markdown",
      "source": [
        "Data Types - Sequence - List"
      ],
      "metadata": {
        "id": "SZO9qpEV1BaL"
      }
    },
    {
      "cell_type": "code",
      "source": [
        "list1 = [1, 2, 3, 4]  # A list containing integers\n",
        "mixed_list = [12, \"Hello\", True]  # A list containing different data types\n",
        "# List is mutable, so we change the first element (index 0)\n",
        "mixed_list[0] = False\n",
        "# Output the modified list\n",
        "mixed_list\n"
      ],
      "metadata": {
        "colab": {
          "base_uri": "https://localhost:8080/"
        },
        "id": "fue0tNC91ERI",
        "outputId": "579c21f5-9bf0-4790-894b-d83305e05d5c"
      },
      "execution_count": 5,
      "outputs": [
        {
          "output_type": "execute_result",
          "data": {
            "text/plain": [
              "[False, 'Hello', True]"
            ]
          },
          "metadata": {},
          "execution_count": 5
        }
      ]
    },
    {
      "cell_type": "markdown",
      "source": [
        "Data Types - Sequence - Tuple"
      ],
      "metadata": {
        "id": "0QbZPws31fa3"
      }
    },
    {
      "cell_type": "code",
      "source": [
        "colors = ('red', 'green', 'yellow', 'blue')\n",
        "colors_list = list(colors)\n",
        "colors_list[0] = 'purple'\n",
        "colors = tuple(colors_list)  # Convert back to a tuple\n",
        "print(colors)  # Output: ('purple', 'green', 'yellow', 'blue')\n"
      ],
      "metadata": {
        "colab": {
          "base_uri": "https://localhost:8080/"
        },
        "id": "GPijV8Wj1f9-",
        "outputId": "60fb6385-21ab-4a97-e4a9-fc0f07c71cad"
      },
      "execution_count": 7,
      "outputs": [
        {
          "output_type": "stream",
          "name": "stdout",
          "text": [
            "('purple', 'green', 'yellow', 'blue')\n"
          ]
        }
      ]
    },
    {
      "cell_type": "markdown",
      "source": [
        "MAPPING: Data Types - Sequence - Dict"
      ],
      "metadata": {
        "id": "pdcGwL-r3z7c"
      }
    },
    {
      "cell_type": "code",
      "source": [
        "person = {'name':'John','age':30,'city':'Pittsburgh'}\n",
        "print(f\"Hello my name is {person['name']}. I am {person['age']} years old and I live at {person['city']}.\")\n",
        "print(\"All keys:\", list(person.keys()))\n",
        "print(\"All values:\", list(person.values()))"
      ],
      "metadata": {
        "colab": {
          "base_uri": "https://localhost:8080/"
        },
        "id": "F-d3gkr435Bo",
        "outputId": "e9da52af-c1e3-4312-a8a0-573a8e6a709e"
      },
      "execution_count": 8,
      "outputs": [
        {
          "output_type": "stream",
          "name": "stdout",
          "text": [
            "Hello my name is John. I am 30 years old and I live at Pittsburgh.\n",
            "All keys: ['name', 'age', 'city']\n",
            "All values: ['John', 30, 'Pittsburgh']\n"
          ]
        }
      ]
    },
    {
      "cell_type": "markdown",
      "source": [
        "SET: Data Types - SET"
      ],
      "metadata": {
        "id": "sKO8CvF64zds"
      }
    },
    {
      "cell_type": "code",
      "source": [
        "unique_numbers = {1,2,3,3,3,3,4,5,4,2}\n",
        "print(\"The unique numbers is:\", unique_numbers)"
      ],
      "metadata": {
        "colab": {
          "base_uri": "https://localhost:8080/"
        },
        "id": "2l88j5ny4257",
        "outputId": "2494d7fe-5f05-42cd-bb93-14f6677cb4c2"
      },
      "execution_count": 9,
      "outputs": [
        {
          "output_type": "stream",
          "name": "stdout",
          "text": [
            "The unique numbers is: {1, 2, 3, 4, 5}\n"
          ]
        }
      ]
    },
    {
      "cell_type": "markdown",
      "source": [
        "BOOLEAN:"
      ],
      "metadata": {
        "id": "PzofvJ-_5ciU"
      }
    },
    {
      "cell_type": "code",
      "source": [
        "is_student = True\n",
        "has_license = False\n",
        "print(\"data type of the variable is_student = \",type(is_student))\n",
        "print(\"data type of the variable has_license = \",type(has_license))"
      ],
      "metadata": {
        "colab": {
          "base_uri": "https://localhost:8080/"
        },
        "id": "tuBEqxrG5kac",
        "outputId": "bfae314a-bc2e-49ae-b41e-c06f86cc2727"
      },
      "execution_count": 10,
      "outputs": [
        {
          "output_type": "stream",
          "name": "stdout",
          "text": [
            "data type of the variable is_student =  <class 'bool'>\n",
            "data type of the variable has_license =  <class 'bool'>\n"
          ]
        }
      ]
    },
    {
      "cell_type": "markdown",
      "source": [
        "## 3.3 Logical Statements and Loops"
      ],
      "metadata": {
        "id": "0D0MWvCE7Rrh"
      }
    },
    {
      "cell_type": "markdown",
      "source": [
        "## 3.4 Logical Statements"
      ],
      "metadata": {
        "id": "voX-dgLW7fHa"
      }
    },
    {
      "cell_type": "code",
      "source": [
        "num = 10\n",
        "if num > 0:\n",
        " print(\"Positive\")\n",
        "elif num == 0:\n",
        " print(\"Zero\")\n",
        "else:\n",
        " print(\"Non-positive\")\n"
      ],
      "metadata": {
        "colab": {
          "base_uri": "https://localhost:8080/"
        },
        "id": "m1Q6B2TG7kIt",
        "outputId": "97bee6d4-536f-4c9d-8725-79994a0e4520"
      },
      "execution_count": 11,
      "outputs": [
        {
          "output_type": "stream",
          "name": "stdout",
          "text": [
            "Positive\n"
          ]
        }
      ]
    },
    {
      "cell_type": "markdown",
      "source": [
        "Comparision Operators"
      ],
      "metadata": {
        "id": "cN9SkyQ179kF"
      }
    },
    {
      "cell_type": "code",
      "source": [
        "x = 5\n",
        "y = 10\n",
        "if x > 0 and y < 20:\n",
        " print(\"Both conditions are true\")\n",
        "if x > 0 or y > 20:\n",
        " print(\"At least one condition is true\")\n",
        "if not x == 0:\n",
        " print(\"x is not equal to 0\")\n"
      ],
      "metadata": {
        "colab": {
          "base_uri": "https://localhost:8080/"
        },
        "id": "FXy92r3h7_XB",
        "outputId": "bcbe3f8f-a73c-49dc-e0fd-0f818384076b"
      },
      "execution_count": 12,
      "outputs": [
        {
          "output_type": "stream",
          "name": "stdout",
          "text": [
            "Both conditions are true\n",
            "At least one condition is true\n",
            "x is not equal to 0\n"
          ]
        }
      ]
    },
    {
      "cell_type": "markdown",
      "source": [
        "Logical Operators"
      ],
      "metadata": {
        "id": "0Lqs0A3r8IX-"
      }
    },
    {
      "cell_type": "code",
      "source": [
        "# Define two boolean variables\n",
        "a = True\n",
        "b = False\n",
        "# Using the ’and’ operator\n",
        "if a and b:\n",
        " print(\"Both a and b are True\")\n",
        "else:\n",
        " print(\"Either a or b is False\") # This will be printed\n",
        "# Using the ’or’ operator\n",
        "if a or b:\n",
        " print(\"At least one of a or b is True\") # This will be printed\n",
        "else:\n",
        " print(\"Both a and b are False\")\n",
        "# Using the ’not’ operator\n",
        "if not a:\n",
        " print(\"a is False\") # This will not be printed\n",
        "else:\n",
        " print(\"a is True\") # This will be printed\n"
      ],
      "metadata": {
        "colab": {
          "base_uri": "https://localhost:8080/"
        },
        "id": "VDCnJB3C8KNn",
        "outputId": "2f3ce2a5-5d36-4c16-ce18-d629b8e7e653"
      },
      "execution_count": 13,
      "outputs": [
        {
          "output_type": "stream",
          "name": "stdout",
          "text": [
            "Either a or b is False\n",
            "At least one of a or b is True\n",
            "a is True\n"
          ]
        }
      ]
    },
    {
      "cell_type": "markdown",
      "source": [
        "### 3.4.1 Loops"
      ],
      "metadata": {
        "id": "lWPaIUWx8aXt"
      }
    },
    {
      "cell_type": "code",
      "source": [
        "# For loop:\n",
        "fruits = [\"apple\", \"banana\", \"cherry\"]\n",
        "for fruit in fruits:\n",
        "    print(fruit)\n",
        "\n",
        "# While loop:\n",
        "count = 0\n",
        "while count < 5:\n",
        "    print(\"Count is:\", count)\n",
        "    count += 1  # Ensure count is incremented inside the loop\n",
        "\n",
        "# Break\n",
        "fruits = [\"apple\", \"banana\", \"orange\"]\n",
        "print(\"loop 1\")\n",
        "for fruit in fruits:\n",
        "    print(fruit)\n",
        "    if fruit == \"apple\":\n",
        "        break  # Stop the loop when fruit is \"apple\"\n",
        "\n",
        "# Continue\n",
        "print(\"loop 2\")\n",
        "for fruit in fruits:\n",
        "    if fruit == \"apple\":\n",
        "        continue  # Skip the iteration when fruit is \"apple\"\n",
        "    else:\n",
        "        print(fruit)\n"
      ],
      "metadata": {
        "colab": {
          "base_uri": "https://localhost:8080/"
        },
        "id": "E3fJ33jg8dTB",
        "outputId": "cee52ee0-985b-4e80-addc-aab5b89fd92f"
      },
      "execution_count": 14,
      "outputs": [
        {
          "output_type": "stream",
          "name": "stdout",
          "text": [
            "apple\n",
            "banana\n",
            "cherry\n",
            "Count is: 0\n",
            "Count is: 1\n",
            "Count is: 2\n",
            "Count is: 3\n",
            "Count is: 4\n",
            "loop 1\n",
            "apple\n",
            "loop 2\n",
            "banana\n",
            "orange\n"
          ]
        }
      ]
    },
    {
      "cell_type": "markdown",
      "source": [
        "## 3.6 Functions"
      ],
      "metadata": {
        "id": "VkcQA3op94cF"
      }
    },
    {
      "cell_type": "code",
      "source": [
        "def add_binary(a, b):\n",
        "    '''\n",
        "    Returns the sum of two decimal numbers in binary digits.\n",
        "\n",
        "    Parameters:\n",
        "    a (int): A decimal integer\n",
        "    b (int): Another decimal integer\n",
        "\n",
        "    Returns:\n",
        "    binary_sum (str): Binary string of the sum of a and b\n",
        "    '''\n",
        "    binary_sum = bin(a + b)[2:]  # bin() returns a binary string starting with '0b', so we remove '0b'\n",
        "    return binary_sum\n",
        "    # Example 1\n",
        "print(add_binary(5, 3))  # Output: '1000' bin(8) gives '0b1000', and slicing it with [2:] gives '1000'.\n",
        "\n",
        "# Example 2\n",
        "print(add_binary(10, 2))  # Output: '1100'\n",
        "\n",
        "# Example 3\n",
        "print(add_binary(0, 0))   # Output: '0'\n"
      ],
      "metadata": {
        "colab": {
          "base_uri": "https://localhost:8080/"
        },
        "id": "CHLtwZph-AtC",
        "outputId": "8584438b-c39a-45b8-d9c9-511b7dfbd586"
      },
      "execution_count": 15,
      "outputs": [
        {
          "output_type": "stream",
          "name": "stdout",
          "text": [
            "1000\n",
            "1100\n",
            "0\n"
          ]
        }
      ]
    },
    {
      "cell_type": "markdown",
      "source": [
        "Built In Functions"
      ],
      "metadata": {
        "id": "4zMkfupH-6rR"
      }
    },
    {
      "cell_type": "code",
      "source": [
        "# Printing \"Hello, World!\"\n",
        "print(\"Hello, World!\")  # Output: Hello, World!\n",
        "\n",
        "# Finding the length of the string \"Hello\"\n",
        "length = len(\"Hello\")\n",
        "print(length)  # Output: 5\n",
        "\n",
        "# Checking the data type of the number 42\n",
        "data_type = type(42)\n",
        "print(data_type)  # Output: <class 'int'>\n",
        "\n",
        "# Summing up the numbers in the list [1, 2, 3]\n",
        "total = sum([1, 2, 3])\n",
        "print(total)  # Output: 6\n"
      ],
      "metadata": {
        "colab": {
          "base_uri": "https://localhost:8080/"
        },
        "id": "N-DGxroe-8ij",
        "outputId": "947af133-6bd8-4037-966e-dd867b3bb838"
      },
      "execution_count": 16,
      "outputs": [
        {
          "output_type": "stream",
          "name": "stdout",
          "text": [
            "Hello, World!\n",
            "5\n",
            "<class 'int'>\n",
            "6\n"
          ]
        }
      ]
    },
    {
      "cell_type": "markdown",
      "source": [
        "Built in methods"
      ],
      "metadata": {
        "id": "5zsQvD8L_M65"
      }
    },
    {
      "cell_type": "code",
      "source": [
        "# str.upper(): Converts all characters in a string to uppercase.\n",
        "message = \"hello\".upper()\n",
        "print(message)  # Output: \"HELLO\"\n",
        "\n",
        "# list.append(): Adds an element to the end of a list.\n",
        "fruits = [\"apple\", \"banana\"]\n",
        "fruits.append(\"cherry\")\n",
        "print(fruits)  # Output: [\"apple\", \"banana\", \"cherry\"]\n",
        "\n",
        "# dict.get(): Returns the value associated with a key in a dictionary.\n",
        "info = {\"name\": \"Alice\", \"age\": 25}\n",
        "age = info.get(\"age\")\n",
        "print(age)  # Output: 25\n"
      ],
      "metadata": {
        "colab": {
          "base_uri": "https://localhost:8080/"
        },
        "id": "m6MEp_7z_Ox2",
        "outputId": "1e9e5a82-adc6-4a6c-b2a9-0d94271b586c"
      },
      "execution_count": 17,
      "outputs": [
        {
          "output_type": "stream",
          "name": "stdout",
          "text": [
            "HELLO\n",
            "['apple', 'banana', 'cherry']\n",
            "25\n"
          ]
        }
      ]
    },
    {
      "cell_type": "markdown",
      "source": [
        "User Defined Functions"
      ],
      "metadata": {
        "id": "KNsQx_QtAU0v"
      }
    },
    {
      "cell_type": "code",
      "source": [
        "def temperature_converter():\n",
        "    \"\"\"\n",
        "    Converts temperature between Celsius and Fahrenheit.\n",
        "    This function prompts the user to specify the conversion type (Celsius to Fahrenheit or Fahrenheit to Celsius)\n",
        "    and then asks for the temperature value. It calculates and returns the converted temperature.\n",
        "\n",
        "    Returns:\n",
        "    float: The converted temperature value.\n",
        "    \"\"\"\n",
        "    print(\"Choose conversion type:\")\n",
        "    print(\"1. Celsius to Fahrenheit\")\n",
        "    print(\"2. Fahrenheit to Celsius\")\n",
        "\n",
        "    # Get conversion choice from user\n",
        "    choice = input(\"Enter 1 or 2: \")\n",
        "\n",
        "    if choice == \"1\":\n",
        "        # Celsius to Fahrenheit conversion\n",
        "        try:\n",
        "            celsius = float(input(\"Enter temperature in Celsius: \"))\n",
        "            fahrenheit = (celsius * 9/5) + 32\n",
        "            print(f\"{celsius}C is equal to {fahrenheit}F\")\n",
        "            return fahrenheit\n",
        "        except ValueError:\n",
        "            print(\"Invalid input. Please enter a valid number for Celsius.\")\n",
        "            return None\n",
        "\n",
        "    elif choice == \"2\":\n",
        "        # Fahrenheit to Celsius conversion\n",
        "        try:\n",
        "            fahrenheit = float(input(\"Enter temperature in Fahrenheit: \"))\n",
        "            celsius = (fahrenheit - 32) * 5/9\n",
        "            print(f\"{fahrenheit}F is equal to {celsius}C\")\n",
        "            return celsius\n",
        "        except ValueError:\n",
        "            print(\"Invalid input. Please enter a valid number for Fahrenheit.\")\n",
        "            return None\n",
        "\n",
        "    else:\n",
        "        print(\"Invalid choice. Please enter 1 or 2.\")\n",
        "        return None\n",
        "\n",
        "# Call the function\n",
        "temperature_converter()\n"
      ],
      "metadata": {
        "colab": {
          "base_uri": "https://localhost:8080/"
        },
        "id": "hdSJKTZQAXGC",
        "outputId": "93c58c4c-a92e-454e-99d3-2a3295a7a062"
      },
      "execution_count": 18,
      "outputs": [
        {
          "output_type": "stream",
          "name": "stdout",
          "text": [
            "Choose conversion type:\n",
            "1. Celsius to Fahrenheit\n",
            "2. Fahrenheit to Celsius\n",
            "Enter 1 or 2: 1\n",
            "Enter temperature in Celsius: 30\n",
            "30.0C is equal to 86.0F\n"
          ]
        },
        {
          "output_type": "execute_result",
          "data": {
            "text/plain": [
              "86.0"
            ]
          },
          "metadata": {},
          "execution_count": 18
        }
      ]
    },
    {
      "cell_type": "markdown",
      "source": [
        "3.7 Global and Local Variable"
      ],
      "metadata": {
        "id": "Xl4TyTjGAo82"
      }
    },
    {
      "cell_type": "markdown",
      "source": [
        "GLOBAL"
      ],
      "metadata": {
        "id": "4L5IsM3NAua2"
      }
    },
    {
      "cell_type": "code",
      "source": [
        "x = 10\n",
        "def print_global():\n",
        " print(x)\n",
        "print_global()\n"
      ],
      "metadata": {
        "colab": {
          "base_uri": "https://localhost:8080/"
        },
        "id": "od7LSp5KAvbl",
        "outputId": "9d4b5d46-162c-47ab-bf29-e0c034e4ce8d"
      },
      "execution_count": 19,
      "outputs": [
        {
          "output_type": "stream",
          "name": "stdout",
          "text": [
            "10\n"
          ]
        }
      ]
    },
    {
      "cell_type": "markdown",
      "source": [
        "LOCAL"
      ],
      "metadata": {
        "id": "bgJeHkQ2AyqY"
      }
    },
    {
      "cell_type": "code",
      "source": [
        "def print_local():\n",
        "    y = 5\n",
        "    print(y)\n",
        "\n",
        "print_local()"
      ],
      "metadata": {
        "colab": {
          "base_uri": "https://localhost:8080/"
        },
        "id": "m04Dyt8YAzej",
        "outputId": "cd5718df-3739-41dc-8425-917b639de7db"
      },
      "execution_count": 20,
      "outputs": [
        {
          "output_type": "stream",
          "name": "stdout",
          "text": [
            "5\n"
          ]
        }
      ]
    },
    {
      "cell_type": "code",
      "source": [
        "x = 10 # Global variable\n",
        "def modify_global():\n",
        " global x # Declaring x as global\n",
        "x = 20 # Modifying global x\n",
        "modify_global()\n",
        "print(x) # Output: 20"
      ],
      "metadata": {
        "colab": {
          "base_uri": "https://localhost:8080/"
        },
        "id": "2Z62_kjKBAtO",
        "outputId": "b81242ce-aebc-48cb-ffef-298bc2c695f7"
      },
      "execution_count": 21,
      "outputs": [
        {
          "output_type": "stream",
          "name": "stdout",
          "text": [
            "20\n"
          ]
        }
      ]
    },
    {
      "cell_type": "markdown",
      "source": [
        "## 3.8 Exception and Error Handling"
      ],
      "metadata": {
        "id": "L6CaPlMTBG70"
      }
    },
    {
      "cell_type": "code",
      "source": [
        "try:\n",
        "    num = int(input(\"Enter a number: \"))  # Attempt to convert input to an integer\n",
        "    print(\"Result:\", 10 / num)  # Attempt to divide 10 by the input number\n",
        "except ZeroDivisionError:\n",
        "    print(\"Cannot divide by zero.\")  # Handles division by zero error\n",
        "except ValueError:\n",
        "    print(\"Invalid input. Please enter a number.\")  # Handles invalid input error\n"
      ],
      "metadata": {
        "colab": {
          "base_uri": "https://localhost:8080/"
        },
        "id": "arRvNn-kBN_j",
        "outputId": "6a6e2c15-ed2e-4bb0-cba7-9cacb57ca05d"
      },
      "execution_count": 22,
      "outputs": [
        {
          "output_type": "stream",
          "name": "stdout",
          "text": [
            "Enter a number: 2\n",
            "Result: 5.0\n"
          ]
        }
      ]
    },
    {
      "cell_type": "code",
      "source": [
        "try:\n",
        "    file = open(\"example.txt\", \"r\")  # Try to open the file in read mode\n",
        "    data = file.read()  # Read the content of the file\n",
        "except FileNotFoundError:\n",
        "    print(\"File not found.\")  # Error message if the file is not found\n",
        "else:\n",
        "    # If no exceptions, print file data\n",
        "    print(data)\n",
        "finally:\n",
        "    try:\n",
        "        file.close()  # Ensure the file is closed after reading or error\n",
        "    except NameError:\n",
        "        pass  # If file was not opened (due to exception), do nothing\n"
      ],
      "metadata": {
        "colab": {
          "base_uri": "https://localhost:8080/"
        },
        "id": "asfs7aRWCY_8",
        "outputId": "d4d5fa77-e3f1-48c4-d7cb-7a0612a72cb4"
      },
      "execution_count": 23,
      "outputs": [
        {
          "output_type": "stream",
          "name": "stdout",
          "text": [
            "File not found.\n"
          ]
        }
      ]
    },
    {
      "cell_type": "code",
      "source": [
        "def check_age(age):\n",
        "    if age < 0:\n",
        "        raise ValueError(\"Age cannot be negative.\")  # Raise error if age is negative\n",
        "    else:\n",
        "        print(\"Valid age\")  # Print if the age is valid (non-negative)\n",
        "\n",
        "try:\n",
        "    check_age(-1)  # Test with a negative age value\n",
        "except ValueError as e:\n",
        "    print(e)  # Print the error message if ValueError is raised\n"
      ],
      "metadata": {
        "colab": {
          "base_uri": "https://localhost:8080/"
        },
        "id": "veHzbIrPCdGc",
        "outputId": "5dd00eeb-0bb0-479b-8922-247f01c3b19a"
      },
      "execution_count": 24,
      "outputs": [
        {
          "output_type": "stream",
          "name": "stdout",
          "text": [
            "Age cannot be negative.\n"
          ]
        }
      ]
    },
    {
      "cell_type": "markdown",
      "source": [
        "# TO DO TASK"
      ],
      "metadata": {
        "id": "zgA9KKYWDbEJ"
      }
    },
    {
      "cell_type": "markdown",
      "source": [
        "## 4.1 Exercise on Functions:"
      ],
      "metadata": {
        "id": "vAUEDDzYDdPj"
      }
    },
    {
      "cell_type": "markdown",
      "source": [
        "Task - 1:\n",
        "Create a Python program that converts between different units of measurement. • The program should:\n",
        "1. Prompt the user to choose the type of conversion (e.g., length, weight, volume). 2. Ask the user to input the value to be converted.\n",
        "3. Perform the conversion and display the result.\n",
        "4. Handle potential errors, such as invalid input or unsupported conversion types. • Requirements:\n",
        "1. Functions: Define at least one function to perform the conversion.\n",
        "2. Error Handling: Use try-except blocks to handle invalid input (e.g., non-numeric values). 3. User Input: Prompt the user to select the conversion type and input the value.\n",
        "4. Docstrings: Include a docstring in your function to describe its purpose, parameters, and return value.\n",
        "• Conversion Options:\n",
        "1. Length:\n",
        "– Convert meters (m) to feet (ft).\n",
        "– Convert feet (ft) to meters (m).\n",
        "2. Weight:\n",
        "– Convert kilograms (kg) to pounds (lbs).\n",
        "– Convert pounds (lbs) to kilograms (kg).\n",
        "3. Volume:\n",
        "– Convert liters (L) to gallons (gal).\n",
        "– Convert gallons (gal) to liters (L).\n"
      ],
      "metadata": {
        "id": "wnknKuIGDgoJ"
      }
    },
    {
      "cell_type": "code",
      "source": [
        "def convert_units(value, conversion_type):\n",
        "\n",
        "    if conversion_type == 'm_to_ft':\n",
        "        return value * 3.28084\n",
        "    elif conversion_type == 'ft_to_m':\n",
        "        return value / 3.28084\n",
        "    elif conversion_type == 'kg_to_lbs':\n",
        "        return value * 2.20462\n",
        "    elif conversion_type == 'lbs_to_kg':\n",
        "        return value / 2.20462\n",
        "    elif conversion_type == 'L_to_gal':\n",
        "        return value * 0.264172\n",
        "    elif conversion_type == 'gal_to_L':\n",
        "        return value / 0.264172\n",
        "    else:\n",
        "        raise ValueError(\"Invalid conversion type.\")\n",
        "\n",
        "\n",
        "def main():\n",
        "    print(\"Unit Conversion Program\")\n",
        "    print(\"Choose the type of conversion:\")\n",
        "    print(\"1. Length\")\n",
        "    print(\"2. Weight\")\n",
        "    print(\"3. Volume\")\n",
        "\n",
        "    try:\n",
        "        choice = int(input(\"Enter your choice (1, 2, or 3): \"))\n",
        "        if choice not in [1, 2, 3]:\n",
        "            print(\"Invalid choice. Please select 1, 2, or 3.\")\n",
        "            return\n",
        "        value = float(input(\"Enter the value to convert: \"))\n",
        "        if choice == 1:\n",
        "            print(\"Length Conversions:\")\n",
        "            print(\"1. Meters to Feet\")\n",
        "            print(\"2. Feet to Meters\")\n",
        "            sub_choice = int(input(\"Enter your choice (1 or 2): \"))\n",
        "            if sub_choice == 1:\n",
        "                result = convert_units(value, 'm_to_ft')\n",
        "                print(f\"{value} meters = {result:.2f} feet\")\n",
        "            elif sub_choice == 2:\n",
        "                result = convert_units(value, 'ft_to_m')\n",
        "                print(f\"{value} feet = {result:.2f} meters\")\n",
        "            else:\n",
        "                print(\"Invalid choice.\")\n",
        "        elif choice == 2:\n",
        "            print(\"Weight Conversions:\")\n",
        "            print(\"1. Kilograms to Pounds\")\n",
        "            print(\"2. Pounds to Kilograms\")\n",
        "            sub_choice = int(input(\"Enter your choice (1 or 2): \"))\n",
        "            if sub_choice == 1:\n",
        "                result = convert_units(value, 'kg_to_lbs')\n",
        "                print(f\"{value} kilograms = {result:.2f} pounds\")\n",
        "            elif sub_choice == 2:\n",
        "                result = convert_units(value, 'lbs_to_kg')\n",
        "                print(f\"{value} pounds = {result:.2f} kilograms\")\n",
        "            else:\n",
        "                print(\"Invalid choice.\")\n",
        "        elif choice == 3:\n",
        "            print(\"Volume Conversions:\")\n",
        "            print(\"1. Liters to Gallons\")\n",
        "            print(\"2. Gallons to Liters\")\n",
        "            sub_choice = int(input(\"Enter your choice (1 or 2): \"))\n",
        "            if sub_choice == 1:\n",
        "                result = convert_units(value, 'L_to_gal')\n",
        "                print(f\"{value} liters = {result:.2f} gallons\")\n",
        "            elif sub_choice == 2:\n",
        "                result = convert_units(value, 'gal_to_L')\n",
        "                print(f\"{value} gallons = {result:.2f} liters\")\n",
        "            else:\n",
        "                print(\"Invalid choice.\")\n",
        "    except ValueError as e:\n",
        "        print(f\"Error: {e}. Please enter a valid number.\")\n",
        "    except Exception as e:\n",
        "        print(f\"An unexpected error occurred: {e}\")\n",
        "\n",
        "if __name__ == \"__main__\":\n",
        "    main()"
      ],
      "metadata": {
        "colab": {
          "base_uri": "https://localhost:8080/"
        },
        "id": "dDHlaXCfDksD",
        "outputId": "19a68229-5cb1-4ef5-8c10-7b474faa358c"
      },
      "execution_count": 25,
      "outputs": [
        {
          "output_type": "stream",
          "name": "stdout",
          "text": [
            "Unit Conversion Program\n",
            "Choose the type of conversion:\n",
            "1. Length\n",
            "2. Weight\n",
            "3. Volume\n",
            "Enter your choice (1, 2, or 3): 2\n",
            "Enter the value to convert: 65\n",
            "Weight Conversions:\n",
            "1. Kilograms to Pounds\n",
            "2. Pounds to Kilograms\n",
            "Enter your choice (1 or 2): 1\n",
            "65.0 kilograms = 143.30 pounds\n"
          ]
        }
      ]
    },
    {
      "cell_type": "markdown",
      "source": [
        "Task - 2:\n",
        "Create a Python program that performs various mathematical operations on a list of numbers. • The Program should:\n",
        "1. Prompt the user to choose an operation (e.g., find the sum, average, maximum, or minimum of the numbers).\n",
        "2. Ask the user to input a list of numbers (separated by spaces).\n",
        "18\n",
        "\n",
        "3. Perform the selected operation and display the result.\n",
        "4. Handle potential errors, such as invalid input or empty lists.\n",
        "• Requirements:\n",
        "1. Functions: Define at least one function for each operation (sum, average, maximum, mini mum).\n",
        "2. Error Handling: Use try-except blocks to handle invalid input (e.g., non-numeric values or empty lists).\n",
        "3. User Input: Prompt the user to select the operation and input the list of numbers.\n",
        "4. Docstrings: Include a docstring in each function to describe its purpose, parameters, and return value.\n"
      ],
      "metadata": {
        "id": "6hKr1o-SETzP"
      }
    },
    {
      "cell_type": "code",
      "source": [
        "def calculate_sum(numbers):\n",
        "\n",
        "    return sum(numbers)\n",
        "\n",
        "def calculate_average(numbers):\n",
        "\n",
        "    if len(numbers) == 0:\n",
        "        raise ValueError(\"Cannot calculate average of an empty list.\")\n",
        "    return sum(numbers) / len(numbers)\n",
        "\n",
        "def find_maximum(numbers):\n",
        "\n",
        "    if len(numbers) == 0:\n",
        "        raise ValueError(\"Cannot find maximum of an empty list.\")\n",
        "    return max(numbers)\n",
        "\n",
        "def find_minimum(numbers):\n",
        "\n",
        "    if len(numbers) == 0:\n",
        "        raise ValueError(\"Cannot find minimum of an empty list.\")\n",
        "    return min(numbers)\n",
        "\n",
        "def main():\n",
        "    print(\"Mathematical Operations Program\")\n",
        "    print(\"Choose an operation:\")\n",
        "    print(\"1. Sum\")\n",
        "    print(\"2. Average\")\n",
        "    print(\"3. Maximum\")\n",
        "    print(\"4. Minimum\")\n",
        "\n",
        "    try:\n",
        "        choice = int(input(\"Enter your choice (1, 2, 3, or 4): \"))\n",
        "        if choice not in [1, 2, 3, 4]:\n",
        "            print(\"Invalid choice. Please select 1, 2, 3, or 4.\")\n",
        "            return\n",
        "        input_numbers = input(\"Enter a list of numbers separated by spaces: \")\n",
        "        numbers = [float(num) for num in input_numbers.split()]\n",
        "\n",
        "        if len(numbers) == 0:\n",
        "            raise ValueError(\"Empty list provided. Please enter at least one number.\")\n",
        "        if choice == 1:\n",
        "            result = calculate_sum(numbers)\n",
        "            print(f\"Sum of the numbers: {result}\")\n",
        "        elif choice == 2:\n",
        "            result = calculate_average(numbers)\n",
        "            print(f\"Average of the numbers: {result:.2f}\")\n",
        "        elif choice == 3:\n",
        "            result = find_maximum(numbers)\n",
        "            print(f\"Maximum of the numbers: {result}\")\n",
        "        elif choice == 4:\n",
        "            result = find_minimum(numbers)\n",
        "            print(f\"Minimum of the numbers: {result}\")\n",
        "    except ValueError as e:\n",
        "        print(f\"Error: {e}\")\n",
        "    except Exception as e:\n",
        "        print(f\"An unexpected error occurred: {e}\")\n",
        "if __name__ == \"__main__\":\n",
        "    main()"
      ],
      "metadata": {
        "colab": {
          "base_uri": "https://localhost:8080/"
        },
        "id": "bpxdajPnERn1",
        "outputId": "5057ec9a-94c3-49fb-8eb3-0ea20cf895d6"
      },
      "execution_count": 26,
      "outputs": [
        {
          "output_type": "stream",
          "name": "stdout",
          "text": [
            "Mathematical Operations Program\n",
            "Choose an operation:\n",
            "1. Sum\n",
            "2. Average\n",
            "3. Maximum\n",
            "4. Minimum\n",
            "Enter your choice (1, 2, 3, or 4): 1\n",
            "Enter a list of numbers separated by spaces: 2\n",
            "Sum of the numbers: 2.0\n"
          ]
        }
      ]
    },
    {
      "cell_type": "markdown",
      "source": [
        "4.2 EXERCISE ON LIST MANIPULATION"
      ],
      "metadata": {
        "id": "FdYfxaTzEqCv"
      }
    },
    {
      "cell_type": "markdown",
      "source": [
        "Extract Every Other Element"
      ],
      "metadata": {
        "id": "EhXOlVW2EuKJ"
      }
    },
    {
      "cell_type": "markdown",
      "source": [
        "Write a Python function that extracts every other element from a list, starting from the first element. • Requirements:\n",
        "– Define a function extract every other(lst) that takes a list lst as input and returns a new list containing every other element from the original list.\n",
        "– Example: For the input [1, 2, 3, 4, 5, 6], the output should be [1, 3, 5].\n"
      ],
      "metadata": {
        "id": "uCAtgGRFE0hH"
      }
    },
    {
      "cell_type": "code",
      "source": [
        "def extract_every_other(lst):\n",
        "\n",
        "    return lst[::2] #Start at index 0 (the first element).Step by 2 (skip every second element).\n",
        "\n",
        "input_list = [1, 2, 3, 4, 5, 6]\n",
        "result = extract_every_other(input_list)\n",
        "print(result)  # Output: [1, 3, 5]"
      ],
      "metadata": {
        "colab": {
          "base_uri": "https://localhost:8080/"
        },
        "id": "t0TLzfqlEwaA",
        "outputId": "acbc883b-64be-497d-f0a7-42745ef41120"
      },
      "execution_count": 27,
      "outputs": [
        {
          "output_type": "stream",
          "name": "stdout",
          "text": [
            "[1, 3, 5]\n"
          ]
        }
      ]
    },
    {
      "cell_type": "markdown",
      "source": [
        "Slice a Sublist"
      ],
      "metadata": {
        "id": "nguyScdPFEf5"
      }
    },
    {
      "cell_type": "markdown",
      "source": [
        "Write a Python function that returns a sublist from a given list, starting from a specified index and ending at another specified index.\n",
        "• Requirements:\n",
        "– Define a function get sublist(lst, start, end) that takes a list lst, a starting index start, and an ending index end as input and returns the sublist from start to end (inclusive).\n",
        "– Example: For the input [1, 2, 3, 4, 5, 6] with start=2 and end=4, the output should be [3, 4, 5].\n"
      ],
      "metadata": {
        "id": "NKtFmQCtFGmB"
      }
    },
    {
      "cell_type": "code",
      "source": [
        "def get_sublist(lst, start, end):\n",
        "\n",
        "    return lst[start:end + 1]\n",
        "\n",
        "input_list = [1, 2, 3, 4, 5, 6]\n",
        "start_index = 2\n",
        "end_index = 4\n",
        "result = get_sublist(input_list, start_index, end_index)\n",
        "print(result)  # Output: [3, 4, 5]"
      ],
      "metadata": {
        "colab": {
          "base_uri": "https://localhost:8080/"
        },
        "id": "-sumNxCkFIGt",
        "outputId": "dcdbf030-5a81-4237-b9c8-697c9d1562fc"
      },
      "execution_count": 28,
      "outputs": [
        {
          "output_type": "stream",
          "name": "stdout",
          "text": [
            "[3, 4, 5]\n"
          ]
        }
      ]
    },
    {
      "cell_type": "markdown",
      "source": [
        "Reverse a List Using Slicing:"
      ],
      "metadata": {
        "id": "W_ZzG7P2HvzV"
      }
    },
    {
      "cell_type": "markdown",
      "source": [
        "Write a Python function that reverses a list using slicing.\n",
        "• Requirements:\n",
        "– Define a function reverse list(lst) that takes a list lst and returns a reversed list using slicing.\n",
        "– Example: For the input [1, 2, 3, 4, 5], the output should be [5, 4, 3, 2, 1]. 19\n"
      ],
      "metadata": {
        "id": "dds6bWjyHzPL"
      }
    },
    {
      "cell_type": "code",
      "source": [
        "def reverse_list(lst):\n",
        "\n",
        "    return lst[::-1]\n",
        "\n",
        "\n",
        "# Example usage:\n",
        "input_list = [1, 2, 3, 4, 5]\n",
        "result = reverse_list(input_list)\n",
        "print(result)  # Output: [5, 4, 3, 2, 1]"
      ],
      "metadata": {
        "colab": {
          "base_uri": "https://localhost:8080/"
        },
        "id": "PKehL1XMHxdf",
        "outputId": "8a8a6698-429e-420e-dfef-fbbf6ea17461"
      },
      "execution_count": 29,
      "outputs": [
        {
          "output_type": "stream",
          "name": "stdout",
          "text": [
            "[5, 4, 3, 2, 1]\n"
          ]
        }
      ]
    },
    {
      "cell_type": "markdown",
      "source": [
        "Remove the First and Last Elements: Write a Python function that removes the first and last elements of a list and returns the resulting sublist.\n",
        "• Requirements:\n",
        "– Define a function remove first last(lst) that takes a list lst and returns a sublist without the first and last elements using slicing.\n",
        "– Example: For the input [1, 2, 3, 4, 5], the output should be [2, 3, 4].\n",
        "\n"
      ],
      "metadata": {
        "id": "el_F2C7HICDZ"
      }
    },
    {
      "cell_type": "code",
      "source": [
        "def remove_first_last(lst):\n",
        "\n",
        "    return lst[1:-1]\n",
        "\n",
        "input_list = [1, 2, 3, 4, 5]\n",
        "result = remove_first_last(input_list)\n",
        "print(result)  # Output: [2, 3, 4]"
      ],
      "metadata": {
        "colab": {
          "base_uri": "https://localhost:8080/"
        },
        "id": "BtBKfrInID4g",
        "outputId": "d4b11b10-59f8-4979-b92c-63df20ac65c9"
      },
      "execution_count": 30,
      "outputs": [
        {
          "output_type": "stream",
          "name": "stdout",
          "text": [
            "[2, 3, 4]\n"
          ]
        }
      ]
    },
    {
      "cell_type": "markdown",
      "source": [
        "Get the First n Elements:\n",
        "Write a Python function that extracts the first n elements from a list.\n",
        "• Requirements:\n",
        "– Define a function get first n(lst, n) that takes a list lst and an integer n as input and returns the first n elements of the list using slicing.\n",
        "– Example: For the input [1, 2, 3, 4, 5] with n=3, the output should be [1, 2, 3].\n"
      ],
      "metadata": {
        "id": "3FXaSjlkIObw"
      }
    },
    {
      "cell_type": "code",
      "source": [
        "def get_first_n(lst, n):\n",
        "\n",
        "    return lst[:n]\n",
        "\n",
        "input_list = [1, 2, 3, 4, 5]\n",
        "n = 3\n",
        "result = get_first_n(input_list, n)\n",
        "print(result)  # Output: [1, 2, 3]"
      ],
      "metadata": {
        "colab": {
          "base_uri": "https://localhost:8080/"
        },
        "id": "sKbWNj13IPAA",
        "outputId": "28380903-a2a0-4d9b-d541-12c1fbfc426e"
      },
      "execution_count": 31,
      "outputs": [
        {
          "output_type": "stream",
          "name": "stdout",
          "text": [
            "[1, 2, 3]\n"
          ]
        }
      ]
    },
    {
      "cell_type": "markdown",
      "source": [
        "Extract Elements from the End:\n",
        "Write a Python function that extracts the last n elements of a list using slicing. • Requirements:\n",
        "– Define a function get last n(lst, n) that takes a list lst and an integer n as input and returns the last n elements of the list.\n",
        "– Example: For the input [1, 2, 3, 4, 5] with n=2, the output should be [4, 5].\n"
      ],
      "metadata": {
        "id": "i2lZ2_DxIYtK"
      }
    },
    {
      "cell_type": "code",
      "source": [
        "def get_last_n(lst, n):\n",
        "\n",
        "    return lst[-n:]\n",
        "\n",
        "input_list = [1, 2, 3, 4, 5]\n",
        "n = 2\n",
        "result = get_last_n(input_list, n)\n",
        "print(result)  # Output: [4, 5]"
      ],
      "metadata": {
        "colab": {
          "base_uri": "https://localhost:8080/"
        },
        "id": "_5_ApnXqIZI9",
        "outputId": "bccf5aa5-9781-42e7-afd2-66168992ee17"
      },
      "execution_count": 32,
      "outputs": [
        {
          "output_type": "stream",
          "name": "stdout",
          "text": [
            "[4, 5]\n"
          ]
        }
      ]
    },
    {
      "cell_type": "markdown",
      "source": [
        "Extract Elements in Reverse Order:\n",
        "Write a Python function that extracts a list of elements in reverse order starting from the second-to-last element and skipping one element in between.\n",
        "• Requirements:\n",
        "– Define a function reverse skip(lst) that takes a list lst and returns a new list containing every second element starting from the second-to-last, moving backward.\n",
        "– Example: For the input [1, 2, 3, 4, 5, 6], the output should be [5, 3, 1]. 20\n"
      ],
      "metadata": {
        "id": "-iP3D8xrIigs"
      }
    },
    {
      "cell_type": "code",
      "source": [
        "def reverse_skip(lst):\n",
        "\n",
        "    return lst[-2::-2]\n",
        "\n",
        "input_list = [1, 2, 3, 4, 5, 6]\n",
        "result = reverse_skip(input_list)\n",
        "print(result)  # Output: [5, 3, 1]"
      ],
      "metadata": {
        "colab": {
          "base_uri": "https://localhost:8080/"
        },
        "id": "mfM2YZ8GIjLy",
        "outputId": "7a6ae795-2da0-45ee-e75f-ec1d3618af11"
      },
      "execution_count": 33,
      "outputs": [
        {
          "output_type": "stream",
          "name": "stdout",
          "text": [
            "[5, 3, 1]\n"
          ]
        }
      ]
    },
    {
      "cell_type": "markdown",
      "source": [
        "### 4.3 Exercise on Nested List:"
      ],
      "metadata": {
        "id": "OczULv29JFwe"
      }
    },
    {
      "cell_type": "markdown",
      "source": [
        "1. Flatten a Nested List:\n",
        "Write a Python function that takes a nested list and flattens it into a single list, where all the elements are in a single dimension.\n",
        "• Requirements:\n",
        "– Define a function flatten(lst) that takes a nested list lst and returns a flattened version of the list.\n",
        "– Example: For the input [[1, 2], [3, 4], [5]], the output should be [1, 2, 3, 4, 5].\n"
      ],
      "metadata": {
        "id": "J2X9NFoPJHzL"
      }
    },
    {
      "cell_type": "code",
      "source": [
        "def flatten(lst):\n",
        "\n",
        "    flattened = []\n",
        "    for item in lst:\n",
        "        if isinstance(item, list):\n",
        "            flattened.extend(flatten(item))  # Recursively flatten nested lists\n",
        "        else:\n",
        "            flattened.append(item)  # Add non-list items directly\n",
        "    return flattened\n",
        "\n",
        "input_list = [[1, 2], [3, 4], [5]]\n",
        "result = flatten(input_list)\n",
        "print(result)  # Output: [1, 2, 3, 4, 5]"
      ],
      "metadata": {
        "colab": {
          "base_uri": "https://localhost:8080/"
        },
        "id": "ETNjDiotJJi1",
        "outputId": "261bae7a-bc32-477f-8c5e-9fa3f42d416b"
      },
      "execution_count": 34,
      "outputs": [
        {
          "output_type": "stream",
          "name": "stdout",
          "text": [
            "[1, 2, 3, 4, 5]\n"
          ]
        }
      ]
    },
    {
      "cell_type": "markdown",
      "source": [
        "2. Accessing Nested List Elements:\n",
        "Write a Python function that extracts a specific element from a nested list given its indices. • Requirements:\n",
        "– Define a function access nested element(lst, indices) that takes a nested list lst and a list of indices indices, and returns the element at that position.\n",
        "– Example: For the input lst = [[1, 2, 3], [4, 5, 6], [7, 8, 9]] with indices = [1, 2], the output should be 6.\n"
      ],
      "metadata": {
        "id": "mhySgX6-JWJO"
      }
    },
    {
      "cell_type": "code",
      "source": [
        "def access_nested_element(lst, indices):\n",
        "    current = lst\n",
        "    for index in indices:\n",
        "        if not isinstance(current, list):\n",
        "            raise TypeError(\"Invalid nested structure for the given indices.\")\n",
        "        if index < 0 or index >= len(current):\n",
        "            raise IndexError(\"Index out of bounds.\")\n",
        "        current = current[index]\n",
        "    return current\n",
        "\n",
        "input_list = [[1, 2, 3], [4, 5, 6], [7, 8, 9]]\n",
        "indices = [1, 2]\n",
        "result = access_nested_element(input_list, indices)\n",
        "print(result)  # Output: 6"
      ],
      "metadata": {
        "colab": {
          "base_uri": "https://localhost:8080/"
        },
        "id": "vhJ1vHYhJXxL",
        "outputId": "7eaca104-8f1f-4376-f5fb-f0c2e80a68f7"
      },
      "execution_count": 35,
      "outputs": [
        {
          "output_type": "stream",
          "name": "stdout",
          "text": [
            "6\n"
          ]
        }
      ]
    },
    {
      "cell_type": "markdown",
      "source": [
        "3. Sum of All Elements in a Nested List:\n",
        "Write a Python function that calculates the sum of all the numbers in a nested list (regardless of depth). • Requirements:\n",
        "– Define a function sum nested(lst) that takes a nested list lst and returns the sum of all the elements.\n",
        "– Example: For the input [[1, 2], [3, [4, 5]], 6], the output should be 21.\n"
      ],
      "metadata": {
        "id": "kg3llqBKJnZ-"
      }
    },
    {
      "cell_type": "code",
      "source": [
        "def sum_nested(lst):\n",
        "\n",
        "    total = 0\n",
        "    for item in lst:\n",
        "        if isinstance(item, list):\n",
        "            total += sum_nested(item)  # Recursively sum nested lists\n",
        "        else:\n",
        "            total += item  # Add non-list items directly\n",
        "    return total\n",
        "\n",
        "input_list = [[1, 2], [3, [4, 5]], 6]\n",
        "result = sum_nested(input_list)\n",
        "print(result)  # Output: 21"
      ],
      "metadata": {
        "colab": {
          "base_uri": "https://localhost:8080/"
        },
        "id": "UA3PjC55Jn3f",
        "outputId": "cb8e7c75-a820-406a-daff-5ac8a59e1f53"
      },
      "execution_count": 36,
      "outputs": [
        {
          "output_type": "stream",
          "name": "stdout",
          "text": [
            "21\n"
          ]
        }
      ]
    },
    {
      "cell_type": "markdown",
      "source": [
        "4. Remove Specific Element from a Nested List:\n",
        "Write a Python function that removes all occurrences of a specific element from a nested list. • Requirements:\n",
        "– Define a function remove element(lst, elem) that removes elem from lst and returns the modified list.\n",
        "– Example: For the input lst = [[1, 2], [3, 2], [4, 5]] and elem = 2, the output should be [[1], [3], [4, 5]].\n"
      ],
      "metadata": {
        "id": "qCfECAJSJwep"
      }
    },
    {
      "cell_type": "code",
      "source": [
        "def remove_element(lst, elem):\n",
        "\n",
        "    result = []\n",
        "    for item in lst:\n",
        "        if isinstance(item, list):\n",
        "            # Recursively remove the element from nested lists\n",
        "            result.append(remove_element(item, elem))\n",
        "        elif item != elem:\n",
        "            # Add the item to the result if it is not the element to remove\n",
        "            result.append(item)\n",
        "    return result\n",
        "\n",
        "input_list = [[1, 2], [3, 2], [4, 5]]\n",
        "element_to_remove = 2\n",
        "result = remove_element(input_list, element_to_remove)\n",
        "print(result)  # Output: [[1], [3], [4, 5]]"
      ],
      "metadata": {
        "colab": {
          "base_uri": "https://localhost:8080/"
        },
        "id": "1o93Md8ZJw87",
        "outputId": "0ec421fa-4a1e-40fd-c878-8d89ec78d3e1"
      },
      "execution_count": 37,
      "outputs": [
        {
          "output_type": "stream",
          "name": "stdout",
          "text": [
            "[[1], [3], [4, 5]]\n"
          ]
        }
      ]
    },
    {
      "cell_type": "markdown",
      "source": [
        "5. Find the Maximum Element in a Nested List:\n",
        "Write a Python function that finds the maximum element in a nested list (regardless of depth). • Requirements:\n",
        "– Define a function find max(lst) that takes a nested list lst and returns the maximum element.\n",
        "– Example: For the input [[1, 2], [3, [4, 5]], 6], the output should be 6. 21\n"
      ],
      "metadata": {
        "id": "lXyrbPbRKAZ2"
      }
    },
    {
      "cell_type": "code",
      "source": [
        "def find_max(lst):\n",
        "    max_value = float('-inf')  # Initialize with negative infinity\n",
        "    for item in lst:\n",
        "        if isinstance(item, list):\n",
        "            # Recursively find the maximum in nested lists\n",
        "            nested_max = find_max(item)\n",
        "            if nested_max > max_value:\n",
        "                max_value = nested_max\n",
        "        else:\n",
        "            # Compare non-list items directly\n",
        "            if item > max_value:\n",
        "                max_value = item\n",
        "    return max_value\n",
        "\n",
        "input_list = [[1, 2], [3, [4, 5]], 6]\n",
        "result = find_max(input_list)\n",
        "print(result)  # Output: 6"
      ],
      "metadata": {
        "colab": {
          "base_uri": "https://localhost:8080/"
        },
        "id": "4OOMboBRKA8C",
        "outputId": "539d63b0-e101-47a3-e59f-edfec6d3ad99"
      },
      "execution_count": 38,
      "outputs": [
        {
          "output_type": "stream",
          "name": "stdout",
          "text": [
            "6\n"
          ]
        }
      ]
    },
    {
      "cell_type": "markdown",
      "source": [
        "6. Count Occurrences of an Element in a Nested List:\n",
        "Write a Python function that counts how many times a specific element appears in a nested list. • Requirements:\n",
        "– Define a function count occurrences(lst, elem) that counts the occurrences of elem in the nested list lst.\n",
        "– Example: For the input lst = [[1, 2], [2, 3], [2, 4]] and elem = 2, the output should be 3.\n",
        "\n"
      ],
      "metadata": {
        "id": "GWjlij5JKLIG"
      }
    },
    {
      "cell_type": "code",
      "source": [
        "def count_occurrences(lst, elem):\n",
        "    count = 0\n",
        "    for item in lst:\n",
        "        if isinstance(item, list):\n",
        "            # Recursively count occurrences in nested lists\n",
        "            count += count_occurrences(item, elem)\n",
        "        elif item == elem:\n",
        "            # Increment count if the item matches the element\n",
        "            count += 1\n",
        "    return count\n",
        "\n",
        "input_list = [[1, 2], [2, 3], [2, 4]]\n",
        "element_to_count = 2\n",
        "result = count_occurrences(input_list, element_to_count)\n",
        "print(result)  # Output: 3"
      ],
      "metadata": {
        "colab": {
          "base_uri": "https://localhost:8080/"
        },
        "id": "ykaYabDYKM3L",
        "outputId": "382c9e24-470d-4889-e7c4-6cb9efc00b54"
      },
      "execution_count": 39,
      "outputs": [
        {
          "output_type": "stream",
          "name": "stdout",
          "text": [
            "3\n"
          ]
        }
      ]
    },
    {
      "cell_type": "markdown",
      "source": [
        "7. Flatten a List of Lists of Lists:\n",
        "Write a Python function that flattens a list of lists of lists into a single list, regardless of the depth. • Requirements:\n",
        "– Define a function deep flatten(lst) that takes a deeply nested list lst and returns a single flattened list.\n",
        "– Example: For the input [[[1, 2], [3, 4]], [[5, 6], [7, 8]]], the output should be [1, 2, 3, 4, 5, 6, 7, 8].\n"
      ],
      "metadata": {
        "id": "A1IxxYxNKbph"
      }
    },
    {
      "cell_type": "code",
      "source": [
        "def deep_flatten(lst):\n",
        "\n",
        "    flattened = []\n",
        "    for item in lst:\n",
        "        if isinstance(item, list):\n",
        "            # Recursively flatten nested lists\n",
        "            flattened.extend(deep_flatten(item))\n",
        "        else:\n",
        "            # Add non-list items directly\n",
        "            flattened.append(item)\n",
        "    return flattened\n",
        "\n",
        "input_list = [[[1, 2], [3, 4]], [[5, 6], [7, 8]]]\n",
        "result = deep_flatten(input_list)\n",
        "print(result)  # Output: [1, 2, 3, 4, 5, 6, 7, 8]"
      ],
      "metadata": {
        "colab": {
          "base_uri": "https://localhost:8080/"
        },
        "id": "JI_ikRS6KcL0",
        "outputId": "b553949a-970c-48f1-ee81-0850895453ed"
      },
      "execution_count": 40,
      "outputs": [
        {
          "output_type": "stream",
          "name": "stdout",
          "text": [
            "[1, 2, 3, 4, 5, 6, 7, 8]\n"
          ]
        }
      ]
    },
    {
      "cell_type": "markdown",
      "source": [
        "8. Nested List Average:\n",
        "Write a Python function that calculates the average of all elements in a nested list. • Requirements:\n",
        "– Define a function average nested(lst) that takes a nested list lst and returns the average of all the elements.\n",
        "– Example: For the input [[1, 2], [3, 4], [5, 6]], the output should be 3.5. 22\n"
      ],
      "metadata": {
        "id": "lGmlil5SKnOF"
      }
    },
    {
      "cell_type": "code",
      "source": [
        "def average_nested(lst):\n",
        "    def flatten(lst):\n",
        "        \"\"\"Helper function to flatten the nested list.\"\"\"\n",
        "        flattened = []\n",
        "        for item in lst:\n",
        "            if isinstance(item, list):\n",
        "                flattened.extend(flatten(item))\n",
        "            else:\n",
        "                flattened.append(item)\n",
        "        return flattened\n",
        "\n",
        "    # Flatten the nested list\n",
        "    flattened_list = flatten(lst)\n",
        "\n",
        "    # Calculate the average\n",
        "    if not flattened_list:\n",
        "        return 0  # Return 0 if the list is empty to avoid division by zero\n",
        "    return sum(flattened_list) / len(flattened_list)\n",
        "input_list = [[1, 2], [3, 4], [5, 6]]\n",
        "result = average_nested(input_list)\n",
        "print(result)  # Output: 3.5"
      ],
      "metadata": {
        "colab": {
          "base_uri": "https://localhost:8080/"
        },
        "id": "uWCrPEL8Knvb",
        "outputId": "04d8cec7-6cde-44e5-9c66-03181134b3d1"
      },
      "execution_count": 41,
      "outputs": [
        {
          "output_type": "stream",
          "name": "stdout",
          "text": [
            "3.5\n"
          ]
        }
      ]
    },
    {
      "cell_type": "markdown",
      "source": [
        "# 5 NUMPY"
      ],
      "metadata": {
        "id": "OzaKMzFyKzhn"
      }
    },
    {
      "cell_type": "markdown",
      "source": [
        "# 6 Getting started with NumPy"
      ],
      "metadata": {
        "id": "hOo7T1tQdgjz"
      }
    },
    {
      "cell_type": "code",
      "source": [
        "import numpy as np\n",
        "# initialize an all zero array with size 2 X 3:\n",
        "zeros_arr = np.zeros((2,3))\n",
        "print(\" A zeros array is \\n\", zeros_arr, \"with dimensions\", zeros_arr.shape, \"\\n\")"
      ],
      "metadata": {
        "id": "t7Ar5-YnK4D_",
        "colab": {
          "base_uri": "https://localhost:8080/"
        },
        "outputId": "62eea4bf-748e-472a-c0a2-645f748a0138"
      },
      "execution_count": 42,
      "outputs": [
        {
          "output_type": "stream",
          "name": "stdout",
          "text": [
            " A zeros array is \n",
            " [[0. 0. 0.]\n",
            " [0. 0. 0.]] with dimensions (2, 3) \n",
            "\n"
          ]
        }
      ]
    },
    {
      "cell_type": "markdown",
      "source": [
        "Creating and Displaying Different Type of Arrays"
      ],
      "metadata": {
        "id": "0rxIJKeEdup8"
      }
    },
    {
      "cell_type": "code",
      "source": [
        "import numpy as np\n",
        "# Create and display zero, one, and n-dimensional arrays\n",
        "zero_dim_array = np.array(5)\n",
        "one_dim_array = np.array([1, 2, 3])\n",
        "n_dim_array = np.array([[1, 2], [3, 4]])\n",
        "for arr in [zero_dim_array, one_dim_array, n_dim_array]:\n",
        " print(f\"Array:\\n{arr}\\nDimension: {arr.ndim}\\nData type: {arr.dtype}\\n\")\n"
      ],
      "metadata": {
        "colab": {
          "base_uri": "https://localhost:8080/"
        },
        "id": "0TuSyKQPdvkq",
        "outputId": "7b9599ca-48a1-4c43-ee58-7dfd3bc74f00"
      },
      "execution_count": 43,
      "outputs": [
        {
          "output_type": "stream",
          "name": "stdout",
          "text": [
            "Array:\n",
            "5\n",
            "Dimension: 0\n",
            "Data type: int64\n",
            "\n",
            "Array:\n",
            "[1 2 3]\n",
            "Dimension: 1\n",
            "Data type: int64\n",
            "\n",
            "Array:\n",
            "[[1 2]\n",
            " [3 4]]\n",
            "Dimension: 2\n",
            "Data type: int64\n",
            "\n"
          ]
        }
      ]
    },
    {
      "cell_type": "markdown",
      "source": [
        "1. .ndim Number of Dimensions"
      ],
      "metadata": {
        "id": "2jt2EaDKd49r"
      }
    },
    {
      "cell_type": "code",
      "source": [
        "# For a 1-D array:\n",
        "import numpy as np\n",
        "arr_1d = np.array([1, 2, 3, 4, 5])\n",
        "print(arr_1d.ndim)  # Output: 1\n",
        "\n",
        "# For a 2-D array:\n",
        "arr_2d = np.array([[1, 2, 3],\n",
        "                   [4, 5, 6]])\n",
        "print(arr_2d.ndim)  # Output: 2\n",
        "\n",
        "# For a 3-D array:\n",
        "arr_3d = np.array([[[1, 2, 3],\n",
        "                   [4, 5, 6]],\n",
        "                  [[7, 8, 9],\n",
        "                   [10, 11, 12]]])\n",
        "print(arr_3d.ndim)  # Output: 3"
      ],
      "metadata": {
        "colab": {
          "base_uri": "https://localhost:8080/"
        },
        "id": "ykz-cC69d5wh",
        "outputId": "dc1564c2-6855-4db5-fb3c-89c55574c051"
      },
      "execution_count": 44,
      "outputs": [
        {
          "output_type": "stream",
          "name": "stdout",
          "text": [
            "1\n",
            "2\n",
            "3\n"
          ]
        }
      ]
    },
    {
      "cell_type": "markdown",
      "source": [
        "2 .shape Shape of the Array"
      ],
      "metadata": {
        "id": "v0ThXJALfOgX"
      }
    },
    {
      "cell_type": "code",
      "source": [
        "print(arr_1d.shape) # Output: (5,)\n",
        "print(arr_2d.shape) # Output: (2, 3)\n",
        "print(arr_3d.shape) # Output: (2, 2, 3)"
      ],
      "metadata": {
        "colab": {
          "base_uri": "https://localhost:8080/"
        },
        "id": "PkubxFcVfPzp",
        "outputId": "6918415a-197c-42b9-ba05-56ffd65af531"
      },
      "execution_count": 45,
      "outputs": [
        {
          "output_type": "stream",
          "name": "stdout",
          "text": [
            "(5,)\n",
            "(2, 3)\n",
            "(2, 2, 3)\n"
          ]
        }
      ]
    },
    {
      "cell_type": "markdown",
      "source": [
        "3 .size Total Number of Elements"
      ],
      "metadata": {
        "id": "VTVWsp5NfUir"
      }
    },
    {
      "cell_type": "code",
      "source": [
        "print(arr_1d.size) # Output: 5\n",
        "print(arr_2d.size) # Output: 6\n",
        "print(arr_3d.size) # Output: 12\n"
      ],
      "metadata": {
        "colab": {
          "base_uri": "https://localhost:8080/"
        },
        "id": "YBqas8FBfWfx",
        "outputId": "758a7769-6248-4655-aba1-961293ba59cb"
      },
      "execution_count": 46,
      "outputs": [
        {
          "output_type": "stream",
          "name": "stdout",
          "text": [
            "5\n",
            "6\n",
            "12\n"
          ]
        }
      ]
    },
    {
      "cell_type": "markdown",
      "source": [
        "4. .dtype Data Type of Elements"
      ],
      "metadata": {
        "id": "NugJIPnsfaWJ"
      }
    },
    {
      "cell_type": "code",
      "source": [
        "print(arr_1d.dtype) # Output: int64 (or int32)\n",
        "arr_float = np.array([1.1, 2.2, 3.3])\n",
        "print(arr_float.dtype) # Output: float64"
      ],
      "metadata": {
        "colab": {
          "base_uri": "https://localhost:8080/"
        },
        "id": "pEECymT1fbs-",
        "outputId": "a1c8fdda-7ed1-4482-f204-c3f0f68d4d51"
      },
      "execution_count": 47,
      "outputs": [
        {
          "output_type": "stream",
          "name": "stdout",
          "text": [
            "int64\n",
            "float64\n"
          ]
        }
      ]
    },
    {
      "cell_type": "markdown",
      "source": [
        "5 .itemsize Size of Each Element in Bytes"
      ],
      "metadata": {
        "id": "1mqMM4osfd66"
      }
    },
    {
      "cell_type": "code",
      "source": [
        "print(arr_1d.itemsize) # Output: 8 (for int64)"
      ],
      "metadata": {
        "colab": {
          "base_uri": "https://localhost:8080/"
        },
        "id": "REDLrxLKfgX3",
        "outputId": "e573ed83-d1b2-4ee3-c8b4-1b8e9978f6d3"
      },
      "execution_count": 48,
      "outputs": [
        {
          "output_type": "stream",
          "name": "stdout",
          "text": [
            "8\n"
          ]
        }
      ]
    },
    {
      "cell_type": "markdown",
      "source": [
        "6. .nbytes Total Memory Consumption"
      ],
      "metadata": {
        "id": "jgw0cyLrfk5y"
      }
    },
    {
      "cell_type": "code",
      "source": [
        "print(arr_1d.nbytes) # Output: 40 (5 elements \\times 8 bytes each for int64)"
      ],
      "metadata": {
        "colab": {
          "base_uri": "https://localhost:8080/"
        },
        "id": "3tWqcchoflTa",
        "outputId": "da05d25a-c459-48cb-e8ec-c6e12266f5af"
      },
      "execution_count": 49,
      "outputs": [
        {
          "output_type": "stream",
          "name": "stdout",
          "text": [
            "40\n"
          ]
        }
      ]
    },
    {
      "cell_type": "markdown",
      "source": [
        "7. .T Transpose of the Array"
      ],
      "metadata": {
        "id": "BLgNhmmkfqh9"
      }
    },
    {
      "cell_type": "code",
      "source": [
        "print(arr_2d.T)\n",
        "# Output:\n",
        "# [[1 4]\n",
        "# [2 5]\n",
        "# [3 6]]\n"
      ],
      "metadata": {
        "colab": {
          "base_uri": "https://localhost:8080/"
        },
        "id": "FvSgU3nSfrM6",
        "outputId": "801a72cd-6633-4105-91b1-b980dae16813"
      },
      "execution_count": 50,
      "outputs": [
        {
          "output_type": "stream",
          "name": "stdout",
          "text": [
            "[[1 4]\n",
            " [2 5]\n",
            " [3 6]]\n"
          ]
        }
      ]
    },
    {
      "cell_type": "markdown",
      "source": [
        "8. .flat Flattening the Array"
      ],
      "metadata": {
        "id": "9VMEVr9Ff3cV"
      }
    },
    {
      "cell_type": "code",
      "source": [
        "for item in arr_2d.flat:\n",
        " print(item, end=\" \") # Output: 1 2 3 4 5 6"
      ],
      "metadata": {
        "colab": {
          "base_uri": "https://localhost:8080/"
        },
        "id": "JyGKlifbf340",
        "outputId": "e56ac20a-ac68-4297-8255-5e7855149284"
      },
      "execution_count": 51,
      "outputs": [
        {
          "output_type": "stream",
          "name": "stdout",
          "text": [
            "1 2 3 4 5 6 "
          ]
        }
      ]
    },
    {
      "cell_type": "markdown",
      "source": [
        "9. .real and .image"
      ],
      "metadata": {
        "id": "vgKgrgjJf9v5"
      }
    },
    {
      "cell_type": "code",
      "source": [
        "import numpy as np\n",
        "\n",
        "arr_complex = np.array([1+2j, 3+4j])\n",
        "print(arr_complex.real)  # Output: [1. 3.]\n",
        "print(arr_complex.imag)  # Output: [2. 4.]"
      ],
      "metadata": {
        "colab": {
          "base_uri": "https://localhost:8080/"
        },
        "id": "F3VKl_VPgBGW",
        "outputId": "fdd359d2-006a-47ae-ffdc-d66be0e91ba2"
      },
      "execution_count": 52,
      "outputs": [
        {
          "output_type": "stream",
          "name": "stdout",
          "text": [
            "[1. 3.]\n",
            "[2. 4.]\n"
          ]
        }
      ]
    },
    {
      "cell_type": "markdown",
      "source": [
        "10. .astype(dtype) Convert Data Type"
      ],
      "metadata": {
        "id": "CaAmx_jbgQJq"
      }
    },
    {
      "cell_type": "code",
      "source": [
        "arr_float = arr_2d.astype(float)\n",
        "print(arr_float)\n",
        "# Output:\n",
        "# [[1. 2. 3.]\n",
        "# [4. 5. 6.]]\n"
      ],
      "metadata": {
        "colab": {
          "base_uri": "https://localhost:8080/"
        },
        "id": "m1eJ5hOjgQqC",
        "outputId": "c2c6b8ae-f1c1-4a5d-bd30-f2511c19855c"
      },
      "execution_count": 53,
      "outputs": [
        {
          "output_type": "stream",
          "name": "stdout",
          "text": [
            "[[1. 2. 3.]\n",
            " [4. 5. 6.]]\n"
          ]
        }
      ]
    },
    {
      "cell_type": "markdown",
      "source": [
        "6.1.2 Common Errors with Key Attributes"
      ],
      "metadata": {
        "id": "jKxvKfwIhfHe"
      }
    },
    {
      "cell_type": "code",
      "source": [
        "import numpy as np\n",
        "# Original list\n",
        "lst = [[1, 2], [3, 4]]\n",
        "arr = np.array(lst)\n",
        "print(arr.shape)  # Output: (2, 2)"
      ],
      "metadata": {
        "colab": {
          "base_uri": "https://localhost:8080/"
        },
        "id": "u9Pu8uiVhflB",
        "outputId": "d82914ac-f2f3-4f70-d9f5-454507d62c95"
      },
      "execution_count": 54,
      "outputs": [
        {
          "output_type": "stream",
          "name": "stdout",
          "text": [
            "(2, 2)\n"
          ]
        }
      ]
    },
    {
      "cell_type": "markdown",
      "source": [
        "2. IndexError: tuple index out of range"
      ],
      "metadata": {
        "id": "9-9B7wIEh4ov"
      }
    },
    {
      "cell_type": "code",
      "source": [
        "import numpy as np\n",
        "\n",
        "# Create a 1D array\n",
        "arr = np.array([1, 2, 3])\n",
        "if len(arr.shape) > 1:\n",
        "    print(arr.shape[1])  # Access only if it's valid\n",
        "else:\n",
        "    print(\"Array is 1D and has no second dimension.\")"
      ],
      "metadata": {
        "colab": {
          "base_uri": "https://localhost:8080/"
        },
        "id": "laixdtf_h5EY",
        "outputId": "60395ea7-9513-4b55-df27-bfcc4c958e13"
      },
      "execution_count": 55,
      "outputs": [
        {
          "output_type": "stream",
          "name": "stdout",
          "text": [
            "Array is 1D and has no second dimension.\n"
          ]
        }
      ]
    },
    {
      "cell_type": "markdown",
      "source": [
        "3. TypeError: ‘tuple’"
      ],
      "metadata": {
        "id": "7-OqexE_iRn3"
      }
    },
    {
      "cell_type": "code",
      "source": [
        "import numpy as np\n",
        "\n",
        "# Create a 2D array\n",
        "arr = np.array([[1, 2, 3], [4, 5, 6]])\n",
        "print(arr.shape)  # Output: (2, 3)"
      ],
      "metadata": {
        "colab": {
          "base_uri": "https://localhost:8080/"
        },
        "id": "sRdAsYcEiSGk",
        "outputId": "662dca21-cf3e-40a2-bdb1-80848349d33d"
      },
      "execution_count": 56,
      "outputs": [
        {
          "output_type": "stream",
          "name": "stdout",
          "text": [
            "(2, 3)\n"
          ]
        }
      ]
    },
    {
      "cell_type": "markdown",
      "source": [
        "4. ValueError"
      ],
      "metadata": {
        "id": "BlHHhYrtimlB"
      }
    },
    {
      "cell_type": "code",
      "source": [
        "import numpy as np\n",
        "\n",
        "a = np.array([[1, 2], [3, 4]])  # Shape: (2, 2)\n",
        "b = np.array([1, 2, 3])          # Shape: (3,)\n",
        "\n",
        "print(a + b)  # This will raise a ValueError"
      ],
      "metadata": {
        "colab": {
          "base_uri": "https://localhost:8080/",
          "height": 176
        },
        "id": "CctH7MaHinCX",
        "outputId": "5f283c3b-6ac8-410f-f7aa-3651a16816e9"
      },
      "execution_count": 57,
      "outputs": [
        {
          "output_type": "error",
          "ename": "ValueError",
          "evalue": "operands could not be broadcast together with shapes (2,2) (3,) ",
          "traceback": [
            "\u001b[0;31m---------------------------------------------------------------------------\u001b[0m",
            "\u001b[0;31mValueError\u001b[0m                                Traceback (most recent call last)",
            "\u001b[0;32m<ipython-input-57-3a4da016a16c>\u001b[0m in \u001b[0;36m<cell line: 0>\u001b[0;34m()\u001b[0m\n\u001b[1;32m      4\u001b[0m \u001b[0mb\u001b[0m \u001b[0;34m=\u001b[0m \u001b[0mnp\u001b[0m\u001b[0;34m.\u001b[0m\u001b[0marray\u001b[0m\u001b[0;34m(\u001b[0m\u001b[0;34m[\u001b[0m\u001b[0;36m1\u001b[0m\u001b[0;34m,\u001b[0m \u001b[0;36m2\u001b[0m\u001b[0;34m,\u001b[0m \u001b[0;36m3\u001b[0m\u001b[0;34m]\u001b[0m\u001b[0;34m)\u001b[0m          \u001b[0;31m# Shape: (3,)\u001b[0m\u001b[0;34m\u001b[0m\u001b[0;34m\u001b[0m\u001b[0m\n\u001b[1;32m      5\u001b[0m \u001b[0;34m\u001b[0m\u001b[0m\n\u001b[0;32m----> 6\u001b[0;31m \u001b[0mprint\u001b[0m\u001b[0;34m(\u001b[0m\u001b[0ma\u001b[0m \u001b[0;34m+\u001b[0m \u001b[0mb\u001b[0m\u001b[0;34m)\u001b[0m  \u001b[0;31m# This will raise a ValueError\u001b[0m\u001b[0;34m\u001b[0m\u001b[0;34m\u001b[0m\u001b[0m\n\u001b[0m",
            "\u001b[0;31mValueError\u001b[0m: operands could not be broadcast together with shapes (2,2) (3,) "
          ]
        }
      ]
    },
    {
      "cell_type": "markdown",
      "source": [
        "Fixing error"
      ],
      "metadata": {
        "id": "dv-GvTUJjCqp"
      }
    },
    {
      "cell_type": "code",
      "source": [
        "import numpy as np\n",
        "\n",
        "a = np.array([[1, 2], [3, 4]])  # Shape: (2, 2)\n",
        "b = np.array([1, 2])             # Shape: (2,)\n",
        "b = b.reshape(2, 1)              # Reshape b to (2, 1)\n",
        "\n",
        "print(a + b)"
      ],
      "metadata": {
        "colab": {
          "base_uri": "https://localhost:8080/"
        },
        "id": "EcxUG9swjElt",
        "outputId": "cc166c2a-3bb3-4a68-ea72-6b4bcf3e225d"
      },
      "execution_count": 1,
      "outputs": [
        {
          "output_type": "stream",
          "name": "stdout",
          "text": [
            "[[2 3]\n",
            " [5 6]]\n"
          ]
        }
      ]
    },
    {
      "cell_type": "markdown",
      "source": [
        "5. MemoryError:"
      ],
      "metadata": {
        "id": "4sZ7F3YEjlXJ"
      }
    },
    {
      "cell_type": "code",
      "source": [
        "import numpy as np\n",
        "large_array = np.ones((100000, 100000)) # May cause MemoryError"
      ],
      "metadata": {
        "id": "ldpbyxvzjoAK"
      },
      "execution_count": null,
      "outputs": []
    },
    {
      "cell_type": "code",
      "source": [
        "import numpy as np\n",
        "large_array = np.ones((10, 10)) # May cause MemoryError"
      ],
      "metadata": {
        "id": "N4IonWTij0y0"
      },
      "execution_count": 1,
      "outputs": []
    },
    {
      "cell_type": "markdown",
      "source": [
        "### Reshaping an Array"
      ],
      "metadata": {
        "id": "fmgcExr9kU6u"
      }
    },
    {
      "cell_type": "code",
      "source": [
        "import numpy as np\n",
        "# Create an array with shape (2, 3)\n",
        "array = np.array([[1, 2, 3],\n",
        "[4, 5, 6]])\n",
        "# Reshape to (3, 2), keeping 6 elements\n",
        "reshaped_array = array.reshape(3, 2)\n",
        "print(\"Original Shape:\", array.shape, \"\\nReshaped Shape:\", reshaped_array.shape) # Expected Outputs:\n",
        "# Original Shape: (2, 3)\n",
        "# Reshaped Shape: (3, 2)\n"
      ],
      "metadata": {
        "colab": {
          "base_uri": "https://localhost:8080/"
        },
        "id": "urpODxK1kW6S",
        "outputId": "4ee7b592-7068-451a-fd81-e04add353048"
      },
      "execution_count": 2,
      "outputs": [
        {
          "output_type": "stream",
          "name": "stdout",
          "text": [
            "Original Shape: (2, 3) \n",
            "Reshaped Shape: (3, 2)\n"
          ]
        }
      ]
    },
    {
      "cell_type": "markdown",
      "source": [
        ".reshape - ValueError."
      ],
      "metadata": {
        "id": "ITm2OUqDkaka"
      }
    },
    {
      "cell_type": "code",
      "source": [
        "array = np.array([[1, 2, 3], [4, 5, 6]])\n",
        "reshaped_array = array.reshape(4, 2)\n",
        "# Error: cannot reshape array of size 6 into shape (4, 2)\n"
      ],
      "metadata": {
        "colab": {
          "base_uri": "https://localhost:8080/",
          "height": 176
        },
        "id": "TatpIC6pkcd4",
        "outputId": "6f2245f4-fff9-43ed-aaa2-daff9e6390da"
      },
      "execution_count": 3,
      "outputs": [
        {
          "output_type": "error",
          "ename": "ValueError",
          "evalue": "cannot reshape array of size 6 into shape (4,2)",
          "traceback": [
            "\u001b[0;31m---------------------------------------------------------------------------\u001b[0m",
            "\u001b[0;31mValueError\u001b[0m                                Traceback (most recent call last)",
            "\u001b[0;32m<ipython-input-3-9e78b10eeb8e>\u001b[0m in \u001b[0;36m<cell line: 0>\u001b[0;34m()\u001b[0m\n\u001b[1;32m      1\u001b[0m \u001b[0marray\u001b[0m \u001b[0;34m=\u001b[0m \u001b[0mnp\u001b[0m\u001b[0;34m.\u001b[0m\u001b[0marray\u001b[0m\u001b[0;34m(\u001b[0m\u001b[0;34m[\u001b[0m\u001b[0;34m[\u001b[0m\u001b[0;36m1\u001b[0m\u001b[0;34m,\u001b[0m \u001b[0;36m2\u001b[0m\u001b[0;34m,\u001b[0m \u001b[0;36m3\u001b[0m\u001b[0;34m]\u001b[0m\u001b[0;34m,\u001b[0m \u001b[0;34m[\u001b[0m\u001b[0;36m4\u001b[0m\u001b[0;34m,\u001b[0m \u001b[0;36m5\u001b[0m\u001b[0;34m,\u001b[0m \u001b[0;36m6\u001b[0m\u001b[0;34m]\u001b[0m\u001b[0;34m]\u001b[0m\u001b[0;34m)\u001b[0m\u001b[0;34m\u001b[0m\u001b[0;34m\u001b[0m\u001b[0m\n\u001b[0;32m----> 2\u001b[0;31m \u001b[0mreshaped_array\u001b[0m \u001b[0;34m=\u001b[0m \u001b[0marray\u001b[0m\u001b[0;34m.\u001b[0m\u001b[0mreshape\u001b[0m\u001b[0;34m(\u001b[0m\u001b[0;36m4\u001b[0m\u001b[0;34m,\u001b[0m \u001b[0;36m2\u001b[0m\u001b[0;34m)\u001b[0m\u001b[0;34m\u001b[0m\u001b[0;34m\u001b[0m\u001b[0m\n\u001b[0m\u001b[1;32m      3\u001b[0m \u001b[0;31m# Error: cannot reshape array of size 6 into shape (4, 2)\u001b[0m\u001b[0;34m\u001b[0m\u001b[0;34m\u001b[0m\u001b[0m\n",
            "\u001b[0;31mValueError\u001b[0m: cannot reshape array of size 6 into shape (4,2)"
          ]
        }
      ]
    },
    {
      "cell_type": "markdown",
      "source": [
        "## 7 How to Create an Array {ndarray}?"
      ],
      "metadata": {
        "id": "8GZooAszkf8l"
      }
    },
    {
      "cell_type": "code",
      "source": [
        "import numpy as np\n",
        "a = np.arange(1, 10)\n",
        "print(a)\n",
        "x = range(1, 10)\n",
        "print(x) # x is an iterator\n",
        "print(list(x))\n",
        "# further arange examples:\n",
        "x = np.arange(10.4)\n",
        "print(x)\n",
        "x = np.arange(0.5, 10.4, 0.8)\n",
        "print(x)\n"
      ],
      "metadata": {
        "colab": {
          "base_uri": "https://localhost:8080/"
        },
        "id": "xs9UfLnQkg0e",
        "outputId": "079be6f4-6a2a-4fd5-c01a-5275e82d8480"
      },
      "execution_count": 4,
      "outputs": [
        {
          "output_type": "stream",
          "name": "stdout",
          "text": [
            "[1 2 3 4 5 6 7 8 9]\n",
            "range(1, 10)\n",
            "[1, 2, 3, 4, 5, 6, 7, 8, 9]\n",
            "[ 0.  1.  2.  3.  4.  5.  6.  7.  8.  9. 10.]\n",
            "[ 0.5  1.3  2.1  2.9  3.7  4.5  5.3  6.1  6.9  7.7  8.5  9.3 10.1]\n"
          ]
        }
      ]
    },
    {
      "cell_type": "markdown",
      "source": [
        "linspace"
      ],
      "metadata": {
        "id": "_hH5ZTxOknbt"
      }
    },
    {
      "cell_type": "code",
      "source": [
        "import numpy as np\n",
        "# 50 values between 1 and 10:\n",
        "print(np.linspace(1, 10))\n",
        "# 7 values between 1 and 10:\n",
        "print(np.linspace(1, 10, 7))\n",
        "# excluding the endpoint:\n",
        "print(np.linspace(1, 10, 7, endpoint=False))\n"
      ],
      "metadata": {
        "colab": {
          "base_uri": "https://localhost:8080/"
        },
        "id": "o4lThAdhkoKZ",
        "outputId": "c88485d8-fe1b-4544-f6ab-a58af6e29a2a"
      },
      "execution_count": 5,
      "outputs": [
        {
          "output_type": "stream",
          "name": "stdout",
          "text": [
            "[ 1.          1.18367347  1.36734694  1.55102041  1.73469388  1.91836735\n",
            "  2.10204082  2.28571429  2.46938776  2.65306122  2.83673469  3.02040816\n",
            "  3.20408163  3.3877551   3.57142857  3.75510204  3.93877551  4.12244898\n",
            "  4.30612245  4.48979592  4.67346939  4.85714286  5.04081633  5.2244898\n",
            "  5.40816327  5.59183673  5.7755102   5.95918367  6.14285714  6.32653061\n",
            "  6.51020408  6.69387755  6.87755102  7.06122449  7.24489796  7.42857143\n",
            "  7.6122449   7.79591837  7.97959184  8.16326531  8.34693878  8.53061224\n",
            "  8.71428571  8.89795918  9.08163265  9.26530612  9.44897959  9.63265306\n",
            "  9.81632653 10.        ]\n",
            "[ 1.   2.5  4.   5.5  7.   8.5 10. ]\n",
            "[1.         2.28571429 3.57142857 4.85714286 6.14285714 7.42857143\n",
            " 8.71428571]\n"
          ]
        }
      ]
    },
    {
      "cell_type": "markdown",
      "source": [
        "Initalizing an Arrays"
      ],
      "metadata": {
        "id": "56oVok31mK3w"
      }
    },
    {
      "cell_type": "code",
      "source": [
        "import numpy as np\n",
        "# Create arrays of specified shapes\n",
        "ones_array = np.ones((2, 3)) # Shape: (2, 3)\n",
        "zeros_array = np.zeros((3, 2)) # Shape: (3, 2)\n",
        "empty_array = np.empty((2, 2)) # Shape: (2, 2)\n",
        "identity_matrix = np.eye(3) # Shape: (3, 3)\n",
        "print(ones_array, zeros_array, empty_array, identity_matrix, sep='\\n\\n')\n"
      ],
      "metadata": {
        "colab": {
          "base_uri": "https://localhost:8080/"
        },
        "id": "wu6NtYYamMWz",
        "outputId": "7310c2a3-84d7-41ed-90b5-120bc4a1bc06"
      },
      "execution_count": 6,
      "outputs": [
        {
          "output_type": "stream",
          "name": "stdout",
          "text": [
            "[[1. 1. 1.]\n",
            " [1. 1. 1.]]\n",
            "\n",
            "[[0. 0.]\n",
            " [0. 0.]\n",
            " [0. 0.]]\n",
            "\n",
            "[[5.0221773e-320 0.0000000e+000]\n",
            " [2.6868273e-315 5.3509441e-306]]\n",
            "\n",
            "[[1. 0. 0.]\n",
            " [0. 1. 0.]\n",
            " [0. 0. 1.]]\n"
          ]
        }
      ]
    },
    {
      "cell_type": "markdown",
      "source": [
        "Using ndarray"
      ],
      "metadata": {
        "id": "OE45CgTnmV8p"
      }
    },
    {
      "cell_type": "code",
      "source": [
        "import numpy as np\n",
        "array_from_list = np.array([1, 2, 3]) # [1 2 3]\n",
        "array_from_tuple = np.array((4, 5, 6)) # [4 5 6]\n",
        "array_from_nested_list = np.array([[1, 2, 3], [4, 5, 6]]) # [[1 2 3] [4 5 6]]\n",
        "print(array_from_list, array_from_tuple, array_from_nested_list, sep='\\n')"
      ],
      "metadata": {
        "colab": {
          "base_uri": "https://localhost:8080/"
        },
        "id": "15PRT40imWfN",
        "outputId": "6e13c23a-d54c-4297-9187-f0848b6b0dc2"
      },
      "execution_count": 7,
      "outputs": [
        {
          "output_type": "stream",
          "name": "stdout",
          "text": [
            "[1 2 3]\n",
            "[4 5 6]\n",
            "[[1 2 3]\n",
            " [4 5 6]]\n"
          ]
        }
      ]
    },
    {
      "cell_type": "markdown",
      "source": [
        "Using shape of an existing array"
      ],
      "metadata": {
        "id": "G-6euCr3mjuK"
      }
    },
    {
      "cell_type": "code",
      "source": [
        "import numpy as np\n",
        "# Existing Array of Shape:(2,3)\n",
        "arr = np.array([[1, 2, 3], [4, 5, 6]])\n",
        "# Creating Array with Shape of existing array:\n",
        "zeros, ones, empty = np.zeros(arr.shape), np.ones(arr.shape), np.empty(arr.shape) # Shape: (2,3)\n",
        "print(arr, zeros, ones, empty, sep='\\n')\n"
      ],
      "metadata": {
        "colab": {
          "base_uri": "https://localhost:8080/"
        },
        "id": "72DCc1yomkOS",
        "outputId": "3fc0a255-6792-4e35-99d7-d1677acccd80"
      },
      "execution_count": 8,
      "outputs": [
        {
          "output_type": "stream",
          "name": "stdout",
          "text": [
            "[[1 2 3]\n",
            " [4 5 6]]\n",
            "[[0. 0. 0.]\n",
            " [0. 0. 0.]]\n",
            "[[1. 1. 1.]\n",
            " [1. 1. 1.]]\n",
            "[[2.25669449e-316 0.00000000e+000 3.37446836e-321]\n",
            " [4.80059148e-310 8.90029543e-307 1.65781331e-316]]\n"
          ]
        }
      ]
    },
    {
      "cell_type": "markdown",
      "source": [
        "Implementing np.hstack() and np.vstack()"
      ],
      "metadata": {
        "id": "VDhRIRSrmpO1"
      }
    },
    {
      "cell_type": "code",
      "source": [
        "import numpy as np\n",
        "arr1 = np.array([[1, 2], [3, 4]]) # Shape: (2, 2)\n",
        "arr2 = np.array([[5, 6], [7, 8]]) # Shape: (2, 2)\n",
        "# Stacking examples\n",
        "hstacked = np.hstack((arr1, arr2))\n",
        "# Output hstack: [[1 2 5 6] [3 4 7 8]]\n",
        "vstacked = np.vstack((arr1, arr2))\n",
        "# Output vstack[[1 2] [3 4] [5 6] [7 8]]\n",
        "colstacked = np.column_stack((arr1[0], arr2[0]))\n",
        "# Output column stack: [[1 5] [2 6]]\n",
        "print(hstacked, vstacked, colstacked, sep='\\n')\n"
      ],
      "metadata": {
        "colab": {
          "base_uri": "https://localhost:8080/"
        },
        "id": "TVw6zG4Vmp5L",
        "outputId": "f022cf21-74aa-4fa8-e6fb-4e74ab4dfe24"
      },
      "execution_count": 9,
      "outputs": [
        {
          "output_type": "stream",
          "name": "stdout",
          "text": [
            "[[1 2 5 6]\n",
            " [3 4 7 8]]\n",
            "[[1 2]\n",
            " [3 4]\n",
            " [5 6]\n",
            " [7 8]]\n",
            "[[1 5]\n",
            " [2 6]]\n"
          ]
        }
      ]
    },
    {
      "cell_type": "markdown",
      "source": [
        "Implementing np.concatenate()"
      ],
      "metadata": {
        "id": "yTq1w9C2m4DJ"
      }
    },
    {
      "cell_type": "code",
      "source": [
        "import numpy as np\n",
        "\n",
        "# Creating two 3D arrays\n",
        "arr1 = np.array([[[1], [2]], [[3], [4]]])  # Shape: (2, 2, 1)\n",
        "arr2 = np.array([[[5], [6]], [[7], [8]]])  # Shape: (2, 2, 1)\n",
        "\n",
        "# Concatenate along axis 0 (vertical stacking)\n",
        "concat_axis0 = np.concatenate((arr1, arr2), axis=0)\n",
        "# Shape of concat_axis0: (4, 2, 1), arr1 is stacked on top of arr2\n",
        "\n",
        "# Concatenate along axis 1 (horizontal stacking)\n",
        "concat_axis1 = np.concatenate((arr1, arr2), axis=1)\n",
        "# Shape of concat_axis1: (2, 4, 1), arr1 and arr2 are placed side by side\n",
        "\n",
        "# Concatenate along axis 2 (depth stacking)\n",
        "concat_axis2 = np.concatenate((arr1, arr2), axis=2)\n",
        "# Shape of concat_axis2: (2, 2, 2), arr1 and arr2 are stacked in depth (third dimension)\n",
        "\n",
        "# Displaying the results\n",
        "print(\"Concatenation along axis 0 (Vertical stacking):\\n\", concat_axis0)\n",
        "print(\"Shape of concatenated array along axis 0:\", concat_axis0.shape)\n",
        "\n",
        "print(\"\\nConcatenation along axis 1 (Horizontal stacking):\\n\", concat_axis1)\n",
        "print(\"Shape of concatenated array along axis 1:\", concat_axis1.shape)\n",
        "\n",
        "print(\"\\nConcatenation along axis 2 (Depth stacking):\\n\", concat_axis2)\n",
        "print(\"Shape of concatenated array along axis 2:\", concat_axis2.shape)"
      ],
      "metadata": {
        "colab": {
          "base_uri": "https://localhost:8080/"
        },
        "id": "5qCyHUONm4ZR",
        "outputId": "9298982b-1595-4e60-9ca5-df1e904506cb"
      },
      "execution_count": 10,
      "outputs": [
        {
          "output_type": "stream",
          "name": "stdout",
          "text": [
            "Concatenation along axis 0 (Vertical stacking):\n",
            " [[[1]\n",
            "  [2]]\n",
            "\n",
            " [[3]\n",
            "  [4]]\n",
            "\n",
            " [[5]\n",
            "  [6]]\n",
            "\n",
            " [[7]\n",
            "  [8]]]\n",
            "Shape of concatenated array along axis 0: (4, 2, 1)\n",
            "\n",
            "Concatenation along axis 1 (Horizontal stacking):\n",
            " [[[1]\n",
            "  [2]\n",
            "  [5]\n",
            "  [6]]\n",
            "\n",
            " [[3]\n",
            "  [4]\n",
            "  [7]\n",
            "  [8]]]\n",
            "Shape of concatenated array along axis 1: (2, 4, 1)\n",
            "\n",
            "Concatenation along axis 2 (Depth stacking):\n",
            " [[[1 5]\n",
            "  [2 6]]\n",
            "\n",
            " [[3 7]\n",
            "  [4 8]]]\n",
            "Shape of concatenated array along axis 2: (2, 2, 2)\n"
          ]
        }
      ]
    },
    {
      "cell_type": "markdown",
      "source": [
        "## 7.1 Visualizing Array Combination Operations"
      ],
      "metadata": {
        "id": "Fzzu9EqmnHey"
      }
    },
    {
      "cell_type": "markdown",
      "source": [
        "Dimension Mismatch Sample Solution"
      ],
      "metadata": {
        "id": "AtsHuWlcnL5Q"
      }
    },
    {
      "cell_type": "code",
      "source": [
        "import numpy as np\n",
        "\n",
        "# Incorrect shapes\n",
        "arr1 = np.array([[1, 2], [3, 4]])  # shape (2, 2)\n",
        "arr2 = np.array([5, 6])            # shape (2,)\n",
        "\n",
        "# Attempting horizontal stack\n",
        "try:\n",
        "    hstacked = np.hstack((arr1, arr2))  # Error due to dimension mismatch\n",
        "except ValueError as e:\n",
        "    print(f\"Error: {e}\")\n",
        "\n",
        "# Solution: Reshape arr2 to match arr1’s dimensions\n",
        "arr2 = np.array([5, 6]).reshape(2, 1)  # shape (2, 1)\n",
        "hstacked = np.hstack((arr1, arr2))      # No error\n",
        "print(hstacked)"
      ],
      "metadata": {
        "colab": {
          "base_uri": "https://localhost:8080/"
        },
        "id": "htG0fOifnNOo",
        "outputId": "572bccc8-8f14-4529-8cb5-67a4ebb8619c"
      },
      "execution_count": 11,
      "outputs": [
        {
          "output_type": "stream",
          "name": "stdout",
          "text": [
            "Error: all the input arrays must have same number of dimensions, but the array at index 0 has 2 dimension(s) and the array at index 1 has 1 dimension(s)\n",
            "[[1 2 5]\n",
            " [3 4 6]]\n"
          ]
        }
      ]
    },
    {
      "cell_type": "markdown",
      "source": [
        "2. Shape Misalignment for Stacking:"
      ],
      "metadata": {
        "id": "la2-Hb0Pncni"
      }
    },
    {
      "cell_type": "code",
      "source": [
        "import numpy as np\n",
        "arr1 = np.array([[1, 2, 3], [4, 5, 6]]) # shape (2, 3)\n",
        "arr2 = np.array([[7, 8], [9, 10]]) # shape (2, 2)\n",
        "# Attempting horizontal stack (this will fail)\n",
        "try:\n",
        "   hstacked = np.hstack((arr1, arr2)) # Error due to shape mismatch\n",
        "except ValueError as e:\n",
        " print(f\"Error: {e}\")\n",
        "# Solution: Make sure the number of rows in both arrays is the same before stacking arr2 = np.array([[7, 8, 9], [10, 11, 12]]) # shape (2, 3)\n",
        "hstacked = np.hstack((arr1, arr2)) # Works fine\n",
        "print(hstacked)\n"
      ],
      "metadata": {
        "colab": {
          "base_uri": "https://localhost:8080/"
        },
        "id": "naL_qvB-ndDv",
        "outputId": "0740edf1-f989-482c-c00c-06036ed3d180"
      },
      "execution_count": 12,
      "outputs": [
        {
          "output_type": "stream",
          "name": "stdout",
          "text": [
            "[[ 1  2  3  7  8]\n",
            " [ 4  5  6  9 10]]\n"
          ]
        }
      ]
    },
    {
      "cell_type": "markdown",
      "source": [
        "3. Inconsistent Data Types:"
      ],
      "metadata": {
        "id": "JM8SalirnkYp"
      }
    },
    {
      "cell_type": "code",
      "source": [
        "arr1 = np.array([[1, 2], [3, 4]], dtype=int)\n",
        "arr2 = np.array([5, 6], dtype=float)\n",
        "# Attempting horizontal stack (this will work, but can lead to unexpected results) hstacked = np.hstack((arr1, arr2))\n",
        "print(hstacked)\n",
        "# Solution: Convert the data types to match each other explicitly, if needed:\n"
      ],
      "metadata": {
        "colab": {
          "base_uri": "https://localhost:8080/"
        },
        "id": "pdXaiuDGnk0j",
        "outputId": "729e63ae-da5e-4b62-8dec-b3c471a44f54"
      },
      "execution_count": 13,
      "outputs": [
        {
          "output_type": "stream",
          "name": "stdout",
          "text": [
            "[[ 1  2  3  7  8]\n",
            " [ 4  5  6  9 10]]\n"
          ]
        }
      ]
    },
    {
      "cell_type": "markdown",
      "source": [
        "4. Too Many Dimensions in the Arrays"
      ],
      "metadata": {
        "id": "YNjsOAV3nppG"
      }
    },
    {
      "cell_type": "code",
      "source": [
        "import numpy as np\n",
        "\n",
        "# Define arrays\n",
        "arr1 = np.array([[[1, 2], [3, 4]]])  # shape (1, 2, 2)\n",
        "arr2 = np.array([[5, 6], [7, 8]])     # shape (2, 2)\n",
        "\n",
        "# Attempting stacking with 3D and 2D arrays\n",
        "try:\n",
        "    vstacked = np.vstack((arr1, arr2))  # Error due to too many dimensions\n",
        "except ValueError as e:\n",
        "    print(f\"Error: {e}\")\n",
        "\n",
        "# Solution: Reshape arr1 to be 2D (or flatten it) before stacking\n",
        "arr1 = arr1.reshape(2, 2)  # Now it’s shape (2, 2)\n",
        "vstacked = np.vstack((arr1, arr2))  # Works fine\n",
        "print(vstacked)"
      ],
      "metadata": {
        "colab": {
          "base_uri": "https://localhost:8080/"
        },
        "id": "7z4Y97T1nqCR",
        "outputId": "be9af40a-df9c-4efb-8b0d-3a592c39de7d"
      },
      "execution_count": 14,
      "outputs": [
        {
          "output_type": "stream",
          "name": "stdout",
          "text": [
            "Error: all the input arrays must have same number of dimensions, but the array at index 0 has 3 dimension(s) and the array at index 1 has 2 dimension(s)\n",
            "[[1 2]\n",
            " [3 4]\n",
            " [5 6]\n",
            " [7 8]]\n"
          ]
        }
      ]
    },
    {
      "cell_type": "markdown",
      "source": [
        "## 8 Array Slicing and Indexing."
      ],
      "metadata": {
        "id": "MtMtIL53pyu9"
      }
    },
    {
      "cell_type": "markdown",
      "source": [
        "Array Indexing and Slicing"
      ],
      "metadata": {
        "id": "gF5yxelJmPQD"
      }
    },
    {
      "cell_type": "code",
      "source": [
        "import numpy as np\n",
        "# Creating a 2D array\n",
        "array = np.array([[1, 2, 3], [4, 5, 6], [7, 8, 9]])\n",
        "# Accessing elements using indexing\n",
        "print(array[0, 1]) # Output: 2 (first row, second column)\n",
        "print(array[-1, -1]) # Output: 9 (last row, last column)\n",
        "# Slicing the array\n",
        "print(array[0:2, 1:3]) # Output: [[2, 3], [5, 6]]\n"
      ],
      "metadata": {
        "colab": {
          "base_uri": "https://localhost:8080/"
        },
        "id": "TVCLzAazmRgO",
        "outputId": "f797dc69-b644-4354-a226-bf3dc0537cdd"
      },
      "execution_count": 15,
      "outputs": [
        {
          "output_type": "stream",
          "name": "stdout",
          "text": [
            "2\n",
            "9\n",
            "[[2 3]\n",
            " [5 6]]\n"
          ]
        }
      ]
    },
    {
      "cell_type": "markdown",
      "source": [
        "8.1 Index Out of Bounds Error"
      ],
      "metadata": {
        "id": "yalwi0yKmZ1h"
      }
    },
    {
      "cell_type": "code",
      "source": [
        "import numpy as np\n",
        "# Creating a 2D array\n",
        "array = np.array([[1, 2, 3], [4, 5, 6]])\n",
        "# Attempting to access an element out of bounds\n",
        "try:\n",
        " print(array[2, 1])\n",
        "except IndexError as e:\n",
        " print(f\"Error: {e}\")\n"
      ],
      "metadata": {
        "colab": {
          "base_uri": "https://localhost:8080/"
        },
        "id": "C_7wRBmemaUB",
        "outputId": "8b3f9ac0-59ba-4004-801e-88a2761badd2"
      },
      "execution_count": 16,
      "outputs": [
        {
          "output_type": "stream",
          "name": "stdout",
          "text": [
            "Error: index 2 is out of bounds for axis 0 with size 2\n"
          ]
        }
      ]
    },
    {
      "cell_type": "markdown",
      "source": [
        "## 9 Array Mathematics with NumPy."
      ],
      "metadata": {
        "id": "SI4Jj7fImhtD"
      }
    },
    {
      "cell_type": "markdown",
      "source": [
        "9.1 Universal Functions"
      ],
      "metadata": {
        "id": "MDIQnSqNmlry"
      }
    },
    {
      "cell_type": "code",
      "source": [
        "import numpy as np\n",
        "# Example of basic ufuncs: square and square root\n",
        "arr = np.array([1, 4, 9, 16])\n",
        "# Square every element\n",
        "squared = np.square(arr)\n",
        "# Square root of every element\n",
        "sqrt = np.sqrt(arr)\n",
        "print(f\"Squared: {squared}\")\n",
        "print(f\"Square root: {sqrt}\")"
      ],
      "metadata": {
        "colab": {
          "base_uri": "https://localhost:8080/"
        },
        "id": "lW9qZYtemmgT",
        "outputId": "d14818ec-a4dc-4d3e-c20b-e7e84dbec7c4"
      },
      "execution_count": 17,
      "outputs": [
        {
          "output_type": "stream",
          "name": "stdout",
          "text": [
            "Squared: [  1  16  81 256]\n",
            "Square root: [1. 2. 3. 4.]\n"
          ]
        }
      ]
    },
    {
      "cell_type": "markdown",
      "source": [
        "Example - Mathematical ufuncs"
      ],
      "metadata": {
        "id": "0mW3nosDmsvy"
      }
    },
    {
      "cell_type": "code",
      "source": [
        "import numpy as np\n",
        "\n",
        "# Trigonometric ufuncs\n",
        "angles = np.array([0, np.pi / 4, np.pi / 2])  # Define an array of angles in radians\n",
        "sine_values = np.sin(angles)  # Compute the sine of each angle\n",
        "print(\"Sine values:\", sine_values)\n",
        "\n",
        "# Logarithmic ufuncs\n",
        "arr = np.array([1, 10, 100])  # Define an array of positive numbers\n",
        "log_values = np.log(arr)  # Compute the natural logarithm of each element\n",
        "print(\"Logarithmic values:\", log_values)"
      ],
      "metadata": {
        "colab": {
          "base_uri": "https://localhost:8080/"
        },
        "id": "kSrJsvBlmueT",
        "outputId": "b1177bdf-9132-49bd-d900-c31fc26c9911"
      },
      "execution_count": 18,
      "outputs": [
        {
          "output_type": "stream",
          "name": "stdout",
          "text": [
            "Sine values: [0.         0.70710678 1.        ]\n",
            "Logarithmic values: [0.         2.30258509 4.60517019]\n"
          ]
        }
      ]
    },
    {
      "cell_type": "markdown",
      "source": [
        "9.2 Linear Algebra with np.linalg."
      ],
      "metadata": {
        "id": "jsdMzDqzm65t"
      }
    },
    {
      "cell_type": "code",
      "source": [
        "import numpy as np\n",
        "# Matrix multiplication\n",
        "A = np.array([[1, 2], [3, 4]])\n",
        "B = np.array([[5, 6], [7, 8]])\n",
        "product = np.dot(A, B)\n",
        "# Compute determinant\n",
        "det = np.linalg.det(A)\n",
        "# Compute inverse\n",
        "inverse = np.linalg.inv(A)\n",
        "# Compute eigenvalues and eigenvectors\n",
        "eigvals, eigvecs = np.linalg.eig(A)\n",
        "print(f\"Matrix Product:\\n{product}\")\n",
        "print(f\"Determinant: {det}\")\n",
        "print(f\"Inverse:\\n{inverse}\")\n",
        "print(f\"Eigenvalues: {eigvals}, Eigenvectors:\\n{eigvecs}\")"
      ],
      "metadata": {
        "colab": {
          "base_uri": "https://localhost:8080/"
        },
        "id": "OhSTtGxmm7W1",
        "outputId": "33f4d05c-99a2-453d-81a4-fffe33bf7694"
      },
      "execution_count": 19,
      "outputs": [
        {
          "output_type": "stream",
          "name": "stdout",
          "text": [
            "Matrix Product:\n",
            "[[19 22]\n",
            " [43 50]]\n",
            "Determinant: -2.0000000000000004\n",
            "Inverse:\n",
            "[[-2.   1. ]\n",
            " [ 1.5 -0.5]]\n",
            "Eigenvalues: [-0.37228132  5.37228132], Eigenvectors:\n",
            "[[-0.82456484 -0.41597356]\n",
            " [ 0.56576746 -0.90937671]]\n"
          ]
        }
      ]
    },
    {
      "cell_type": "markdown",
      "source": [
        "9.3 Broadcasting"
      ],
      "metadata": {
        "id": "QrLSpLfsnAix"
      }
    },
    {
      "cell_type": "code",
      "source": [
        "import numpy as np\n",
        "A = np.array([[1], [2], [3]]) # Shape (3,1) 3 rows, 1 column\n",
        "B = np.array([10, 20, 30]) # Shape (3,) 1D array (3 elements)\n",
        "C = A + B # Works! Result shape: (3,3)\n",
        "print(C)"
      ],
      "metadata": {
        "colab": {
          "base_uri": "https://localhost:8080/"
        },
        "id": "8zcj3zDDnBBm",
        "outputId": "9fb97392-748d-418b-841c-02c4b69e85d8"
      },
      "execution_count": 20,
      "outputs": [
        {
          "output_type": "stream",
          "name": "stdout",
          "text": [
            "[[11 21 31]\n",
            " [12 22 32]\n",
            " [13 23 33]]\n"
          ]
        }
      ]
    },
    {
      "cell_type": "code",
      "source": [
        "A = np.array([[1, 2, 3]]) # Shape (1,3)\n",
        "B = np.array([[4], [5], [6]]) # Shape (3,1)\n",
        "C = A + B #Works! Result shape: (3,3)\n",
        "print(C)\n"
      ],
      "metadata": {
        "colab": {
          "base_uri": "https://localhost:8080/"
        },
        "id": "pjBVmVR5nFuA",
        "outputId": "eda01419-eaa6-48fe-8051-745c5c3ccf5f"
      },
      "execution_count": 21,
      "outputs": [
        {
          "output_type": "stream",
          "name": "stdout",
          "text": [
            "[[5 6 7]\n",
            " [6 7 8]\n",
            " [7 8 9]]\n"
          ]
        }
      ]
    },
    {
      "cell_type": "code",
      "source": [
        "A = np.ones((3,2)) # Shape (3,2)\n",
        "B = np.ones((2,3)) # Shape (2,3)\n",
        "C = A + B #ValueError: operands could not be broadcast together\n"
      ],
      "metadata": {
        "colab": {
          "base_uri": "https://localhost:8080/",
          "height": 176
        },
        "id": "nfBgt0jCnJbh",
        "outputId": "30840caf-5059-49b1-a509-a94beb6be295"
      },
      "execution_count": 22,
      "outputs": [
        {
          "output_type": "error",
          "ename": "ValueError",
          "evalue": "operands could not be broadcast together with shapes (3,2) (2,3) ",
          "traceback": [
            "\u001b[0;31m---------------------------------------------------------------------------\u001b[0m",
            "\u001b[0;31mValueError\u001b[0m                                Traceback (most recent call last)",
            "\u001b[0;32m<ipython-input-22-4816a790415b>\u001b[0m in \u001b[0;36m<cell line: 0>\u001b[0;34m()\u001b[0m\n\u001b[1;32m      1\u001b[0m \u001b[0mA\u001b[0m \u001b[0;34m=\u001b[0m \u001b[0mnp\u001b[0m\u001b[0;34m.\u001b[0m\u001b[0mones\u001b[0m\u001b[0;34m(\u001b[0m\u001b[0;34m(\u001b[0m\u001b[0;36m3\u001b[0m\u001b[0;34m,\u001b[0m\u001b[0;36m2\u001b[0m\u001b[0;34m)\u001b[0m\u001b[0;34m)\u001b[0m \u001b[0;31m# Shape (3,2)\u001b[0m\u001b[0;34m\u001b[0m\u001b[0;34m\u001b[0m\u001b[0m\n\u001b[1;32m      2\u001b[0m \u001b[0mB\u001b[0m \u001b[0;34m=\u001b[0m \u001b[0mnp\u001b[0m\u001b[0;34m.\u001b[0m\u001b[0mones\u001b[0m\u001b[0;34m(\u001b[0m\u001b[0;34m(\u001b[0m\u001b[0;36m2\u001b[0m\u001b[0;34m,\u001b[0m\u001b[0;36m3\u001b[0m\u001b[0;34m)\u001b[0m\u001b[0;34m)\u001b[0m \u001b[0;31m# Shape (2,3)\u001b[0m\u001b[0;34m\u001b[0m\u001b[0;34m\u001b[0m\u001b[0m\n\u001b[0;32m----> 3\u001b[0;31m \u001b[0mC\u001b[0m \u001b[0;34m=\u001b[0m \u001b[0mA\u001b[0m \u001b[0;34m+\u001b[0m \u001b[0mB\u001b[0m \u001b[0;31m#ValueError: operands could not be broadcast together\u001b[0m\u001b[0;34m\u001b[0m\u001b[0;34m\u001b[0m\u001b[0m\n\u001b[0m",
            "\u001b[0;31mValueError\u001b[0m: operands could not be broadcast together with shapes (3,2) (2,3) "
          ]
        }
      ]
    },
    {
      "cell_type": "markdown",
      "source": [
        "9.4 Vectorization"
      ],
      "metadata": {
        "id": "cHnmTuydnOrc"
      }
    },
    {
      "cell_type": "code",
      "source": [
        "import numpy as np\n",
        "import time\n",
        "\n",
        "# Create two large arrays\n",
        "size = 10**6\n",
        "a = np.random.rand(size)  # Array of random numbers\n",
        "b = np.random.rand(size)  # Array of random numbers\n",
        "\n",
        "# Using a loop\n",
        "start_time = time.time()\n",
        "result_loop = np.zeros(size)  # Initialize an array to store the result\n",
        "for i in range(size):\n",
        "    result_loop[i] = a[i] + b[i]  # Element-wise addition in a loop\n",
        "end_time = time.time()\n",
        "loop_time = end_time - start_time\n",
        "print(f\"Loop Execution Time: {loop_time:.5f} seconds\")\n",
        "\n",
        "# Using NumPy’s vectorized operations\n",
        "start_time = time.time()\n",
        "result_vectorized = a + b  # Element-wise addition using NumPy's vectorized operations\n",
        "end_time = time.time()\n",
        "vectorized_time = end_time - start_time\n",
        "print(f\"Vectorized Execution Time: {vectorized_time:.5f} seconds\")\n",
        "\n",
        "# Performance improvement factor\n",
        "speedup = loop_time / vectorized_time\n",
        "print(f\"Vectorization is approximately {speedup:.2f} times faster!\")"
      ],
      "metadata": {
        "colab": {
          "base_uri": "https://localhost:8080/"
        },
        "id": "EpFuNhUunP_8",
        "outputId": "c1a037e4-279d-40c6-8d00-85d30d797c07"
      },
      "execution_count": 23,
      "outputs": [
        {
          "output_type": "stream",
          "name": "stdout",
          "text": [
            "Loop Execution Time: 0.46318 seconds\n",
            "Vectorized Execution Time: 0.00481 seconds\n",
            "Vectorization is approximately 96.32 times faster!\n"
          ]
        }
      ]
    },
    {
      "cell_type": "markdown",
      "source": [
        "\n",
        "# 10 To - Do - NumPy"
      ],
      "metadata": {
        "id": "pHpriiwFng8S"
      }
    },
    {
      "cell_type": "markdown",
      "source": [
        "10.1 Basic Vector and Matrix Operation with Numpy."
      ],
      "metadata": {
        "id": "6nUcuHyAnhz4"
      }
    },
    {
      "cell_type": "markdown",
      "source": [
        "Problem - 1: Array Creation:\n",
        "Complete the following Tasks:\n",
        "1. Initialize an empty array with size 2X2.\n",
        "2. Initialize an all one array with size 4X2.\n",
        "3. Return a new array of given shape and type, filled with fill value.{Hint: np.full} 4. Return a new array of zeros with same shape and type as a given array.{Hint: np.zeros like} 5. Return a new array of ones with same shape and type as a given array.{Hint: np.ones like} 6. For an existing list new_list = [1,2,3,4] convert to an numpy array.{Hint: np.array()}"
      ],
      "metadata": {
        "id": "WTkJB-5HnpSL"
      }
    },
    {
      "cell_type": "code",
      "source": [
        "import numpy as np\n",
        "empty_array = np.empty((2, 2))\n",
        "print(\"1. Empty array of size 2x2:\\n\", empty_array)\n",
        "ones_array = np.ones((4, 2))\n",
        "print(\"\\n2. All ones array of size 4x2:\\n\", ones_array)\n",
        "\n",
        "fill_value_array = np.full((3, 3), 5)\n",
        "print(\"\\n3. Array filled with value 5:\\n\", fill_value_array)\n",
        "given_array = np.array([[1, 2], [3, 4]])\n",
        "zeros_like_array = np.zeros_like(given_array)\n",
        "print(\"\\n4. Array of zeros with same shape as given array:\\n\", zeros_like_array)\n",
        "\n",
        "ones_like_array = np.ones_like(given_array)\n",
        "print(\"\\n5. Array of ones with same shape as given array:\\n\", ones_like_array)\n",
        "\n",
        "new_list = [1, 2, 3, 4]\n",
        "numpy_array = np.array(new_list)\n",
        "print(\"\\n6. Numpy array from list:\\n\", numpy_array)"
      ],
      "metadata": {
        "colab": {
          "base_uri": "https://localhost:8080/"
        },
        "id": "8XWnCxD1npzA",
        "outputId": "fb7e6560-05c6-4f74-c736-bb1507d7705a"
      },
      "execution_count": 24,
      "outputs": [
        {
          "output_type": "stream",
          "name": "stdout",
          "text": [
            "1. Empty array of size 2x2:\n",
            " [[2.5e-323 3.0e-323]\n",
            " [3.5e-323 4.0e-323]]\n",
            "\n",
            "2. All ones array of size 4x2:\n",
            " [[1. 1.]\n",
            " [1. 1.]\n",
            " [1. 1.]\n",
            " [1. 1.]]\n",
            "\n",
            "3. Array filled with value 5:\n",
            " [[5 5 5]\n",
            " [5 5 5]\n",
            " [5 5 5]]\n",
            "\n",
            "4. Array of zeros with same shape as given array:\n",
            " [[0 0]\n",
            " [0 0]]\n",
            "\n",
            "5. Array of ones with same shape as given array:\n",
            " [[1 1]\n",
            " [1 1]]\n",
            "\n",
            "6. Numpy array from list:\n",
            " [1 2 3 4]\n"
          ]
        }
      ]
    },
    {
      "cell_type": "markdown",
      "source": [
        "Problem - 2: Array Manipulation: Numerical Ranges and Array indexing: Complete the following tasks:\n",
        "1. Create an array with values ranging from 10 to 49. {Hint:np.arrange()}.\n",
        "2. Create a 3X3 matrix with values ranging from 0 to 8.\n",
        "{Hint:look for np.reshape()}\n",
        "3. Create a 3X3 identity matrix.{Hint:np.eye()}\n",
        "4. Create a random array of size 30 and find the mean of the array.\n",
        "{Hint:check for np.random.random() and array.mean() function}\n",
        "5. Create a 10X10 array with random values and find the minimum and maximum values. 6. Create a zero array of size 10 and replace 5th element with 1.\n",
        "7. Reverse an array arr = [1,2,0,0,4,0].\n",
        "8. Create a 2d array with 1 on border and 0 inside.\n",
        "9. Create a 8X8 matrix and fill it with a checkerboard pattern."
      ],
      "metadata": {
        "id": "90zP7jpmpVFn"
      }
    },
    {
      "cell_type": "code",
      "source": [
        "import numpy as np\n",
        "arr1 = np.arange(10, 50)\n",
        "print(\"1. Array with values from 10 to 49:\\n\", arr1)\n",
        "\n",
        "arr2 = np.arange(9).reshape(3, 3)\n",
        "print(\"\\n2. 3x3 matrix with values from 0 to 8:\\n\", arr2)\n",
        "\n",
        "identity_matrix = np.eye(3)\n",
        "print(\"\\n3. 3x3 identity matrix:\\n\", identity_matrix)\n",
        "random_array = np.random.random(30)\n",
        "mean_value = random_array.mean()\n",
        "print(\"\\n4. Random array of size 30:\\n\", random_array)\n",
        "print(\"Mean of the array:\", mean_value)\n",
        "\n",
        "random_matrix = np.random.random((10, 10))\n",
        "min_value = random_matrix.min()\n",
        "max_value = random_matrix.max()\n",
        "print(\"\\n5. 10x10 random matrix:\\n\", random_matrix)\n",
        "print(\"Minimum value:\", min_value)\n",
        "print(\"Maximum value:\", max_value)\n",
        "\n",
        "zero_array = np.zeros(10)\n",
        "zero_array[4] = 1\n",
        "print(\"\\n6. Zero array with 5th element replaced by 1:\\n\", zero_array)\n",
        "\n",
        "arr = np.array([1, 2, 0, 0, 4, 0])\n",
        "reversed_arr = arr[::-1]\n",
        "print(\"\\n7. Reversed array:\\n\", reversed_arr)\n",
        "border_array = np.ones((5, 5))\n",
        "border_array[1:-1, 1:-1] = 0\n",
        "print(\"\\n8. 2D array with 1 on the border and 0 inside:\\n\", border_array)\n",
        "\n",
        "checkerboard = np.zeros((8, 8), dtype=int)\n",
        "checkerboard[1::2, ::2] = 1\n",
        "checkerboard[::2, 1::2] = 1\n",
        "print(\"\\n9. 8x8 checkerboard pattern:\\n\", checkerboard)"
      ],
      "metadata": {
        "colab": {
          "base_uri": "https://localhost:8080/"
        },
        "id": "qD8SYRihpXfv",
        "outputId": "c5f88062-3dda-438e-f32d-a732e42f0bb2"
      },
      "execution_count": 25,
      "outputs": [
        {
          "output_type": "stream",
          "name": "stdout",
          "text": [
            "1. Array with values from 10 to 49:\n",
            " [10 11 12 13 14 15 16 17 18 19 20 21 22 23 24 25 26 27 28 29 30 31 32 33\n",
            " 34 35 36 37 38 39 40 41 42 43 44 45 46 47 48 49]\n",
            "\n",
            "2. 3x3 matrix with values from 0 to 8:\n",
            " [[0 1 2]\n",
            " [3 4 5]\n",
            " [6 7 8]]\n",
            "\n",
            "3. 3x3 identity matrix:\n",
            " [[1. 0. 0.]\n",
            " [0. 1. 0.]\n",
            " [0. 0. 1.]]\n",
            "\n",
            "4. Random array of size 30:\n",
            " [0.49037418 0.17369685 0.93206755 0.3590655  0.54286512 0.84664566\n",
            " 0.21451767 0.18497768 0.60980534 0.32682041 0.46114306 0.6838536\n",
            " 0.75452961 0.03850175 0.37535402 0.07044427 0.91105168 0.49492814\n",
            " 0.5219979  0.87633658 0.87502127 0.55996269 0.38179138 0.0911457\n",
            " 0.94120875 0.19804554 0.96368073 0.63346438 0.38620019 0.07283181]\n",
            "Mean of the array: 0.49907763394508414\n",
            "\n",
            "5. 10x10 random matrix:\n",
            " [[8.03596026e-01 5.37709258e-01 4.76128572e-01 2.64231990e-02\n",
            "  3.33328772e-02 5.98374471e-01 9.87993536e-01 4.67033572e-01\n",
            "  9.92932472e-01 4.18098650e-01]\n",
            " [4.23552724e-01 9.95380291e-01 7.53149410e-01 4.63866984e-01\n",
            "  6.93597715e-01 7.42582299e-01 5.88084891e-01 4.17104503e-01\n",
            "  6.10992165e-01 7.45342449e-01]\n",
            " [8.38719588e-01 1.01195460e-04 8.95402445e-02 4.66670555e-01\n",
            "  8.65872064e-01 8.81980590e-01 8.68032879e-01 4.89169162e-01\n",
            "  8.51194059e-01 5.78016798e-01]\n",
            " [9.96577628e-01 9.80655421e-01 5.29428282e-01 4.41321505e-02\n",
            "  6.33118605e-01 9.49113810e-02 6.64672157e-02 8.73997289e-01\n",
            "  7.47048646e-02 9.69788353e-01]\n",
            " [1.62056817e-01 6.85016846e-01 6.99613701e-02 3.05714159e-01\n",
            "  8.21787545e-01 5.16394689e-01 1.74625300e-01 4.64726670e-01\n",
            "  9.30284421e-01 9.37032113e-01]\n",
            " [3.29489154e-01 3.29825398e-01 8.75602273e-01 6.13447204e-01\n",
            "  6.24000713e-01 5.17440595e-01 2.63761894e-02 2.09961599e-01\n",
            "  6.19616804e-01 2.09077868e-01]\n",
            " [2.57605365e-01 6.22198900e-01 9.31245692e-01 3.08786852e-02\n",
            "  5.48964906e-01 2.60701237e-02 2.64969887e-01 3.31310683e-01\n",
            "  8.47729937e-01 8.00463963e-02]\n",
            " [4.02598248e-01 1.72543227e-01 6.70254768e-02 7.01477999e-01\n",
            "  8.21866567e-01 2.94215849e-01 5.49383461e-01 3.70114438e-01\n",
            "  4.11399147e-01 3.96805652e-01]\n",
            " [2.43694847e-01 3.63703709e-01 8.97826709e-03 5.93110047e-01\n",
            "  8.87059595e-01 3.26842753e-01 1.94860984e-01 3.58143066e-02\n",
            "  2.22992674e-01 7.31760701e-01]\n",
            " [7.07095811e-03 8.15673824e-01 9.12531148e-01 9.13638696e-01\n",
            "  1.79405570e-01 3.52515963e-01 6.80633707e-02 4.18509859e-01\n",
            "  1.64062306e-01 3.75388273e-01]]\n",
            "Minimum value: 0.00010119546019027315\n",
            "Maximum value: 0.9965776278774523\n",
            "\n",
            "6. Zero array with 5th element replaced by 1:\n",
            " [0. 0. 0. 0. 1. 0. 0. 0. 0. 0.]\n",
            "\n",
            "7. Reversed array:\n",
            " [0 4 0 0 2 1]\n",
            "\n",
            "8. 2D array with 1 on the border and 0 inside:\n",
            " [[1. 1. 1. 1. 1.]\n",
            " [1. 0. 0. 0. 1.]\n",
            " [1. 0. 0. 0. 1.]\n",
            " [1. 0. 0. 0. 1.]\n",
            " [1. 1. 1. 1. 1.]]\n",
            "\n",
            "9. 8x8 checkerboard pattern:\n",
            " [[0 1 0 1 0 1 0 1]\n",
            " [1 0 1 0 1 0 1 0]\n",
            " [0 1 0 1 0 1 0 1]\n",
            " [1 0 1 0 1 0 1 0]\n",
            " [0 1 0 1 0 1 0 1]\n",
            " [1 0 1 0 1 0 1 0]\n",
            " [0 1 0 1 0 1 0 1]\n",
            " [1 0 1 0 1 0 1 0]]\n"
          ]
        }
      ]
    },
    {
      "cell_type": "markdown",
      "source": [
        "Problem - 3: Array Operations:\n",
        "For the following arrays:\n",
        "x = np.array([[1,2],[3,5]]) and y = np.array([[5,6],[7,8]]);\n",
        "v = np.array([9,10]) and w = np.array([11,12]);\n",
        "Complete all the task using numpy:\n",
        "1. Add the two array.\n",
        "2. Subtract the two array.\n",
        "3. Multiply the array with any integers of your choice.\n",
        "4. Find the square of each element of the array.\n",
        "5. Find the dot product between: v(and)w ; x(and)v ; x(and)y.\n",
        "6. Concatenate x(and)y along row and Concatenate v(and)w along column.\n",
        "{Hint:try np.concatenate() or np.vstack() functions.\n",
        "7. Concatenate x(and)v; if you get an error, observe and explain why did you get the error?\n"
      ],
      "metadata": {
        "id": "SYSxPh7VpqMd"
      }
    },
    {
      "cell_type": "code",
      "source": [
        "import numpy as np\n",
        "x = np.array([[1, 2], [3, 5]])\n",
        "y = np.array([[5, 6], [7, 8]])\n",
        "v = np.array([9, 10])\n",
        "w = np.array([11, 12])\n",
        "\n",
        "add_xy = x + y\n",
        "print(\"Addition of x and y:\\n\", add_xy)\n",
        "subtract_xy = x - y\n",
        "print(\"Subtraction of x and y:\\n\", subtract_xy)\n",
        "multiply_x = x * 3\n",
        "print(\"Multiplication of x with 3:\\n\", multiply_x)\n",
        "square_x = np.square(x)\n",
        "print(\"Square of each element in x:\\n\", square_x)\n",
        "dot_vw = np.dot(v, w)\n",
        "print(\"Dot product of v and w:\", dot_vw)\n",
        "dot_xv = np.dot(x, v)\n",
        "print(\"Dot product of x and v:\\n\", dot_xv)\n",
        "dot_xy = np.dot(x, y)\n",
        "print(\"Dot product of x and y:\\n\", dot_xy)\n",
        "concat_xy = np.concatenate((x, y), axis=0)\n",
        "print(\"Concatenation of x and y along rows:\\n\", concat_xy)\n",
        "concat_vw = np.column_stack((v, w))\n",
        "print(\"Concatenation of v and w along columns:\\n\", concat_vw)\n",
        "try:\n",
        "    concat_xv = np.concatenate((x, v), axis=0)\n",
        "    print(\"Concatenation of x and v:\\n\", concat_xv)\n",
        "except ValueError as e:\n",
        "    print(\"Error while concatenating x and v:\", e)\n"
      ],
      "metadata": {
        "colab": {
          "base_uri": "https://localhost:8080/"
        },
        "id": "vulEzXknpqsl",
        "outputId": "2791b2fe-7447-44fc-8011-c1d55491d1f3"
      },
      "execution_count": 26,
      "outputs": [
        {
          "output_type": "stream",
          "name": "stdout",
          "text": [
            "Addition of x and y:\n",
            " [[ 6  8]\n",
            " [10 13]]\n",
            "Subtraction of x and y:\n",
            " [[-4 -4]\n",
            " [-4 -3]]\n",
            "Multiplication of x with 3:\n",
            " [[ 3  6]\n",
            " [ 9 15]]\n",
            "Square of each element in x:\n",
            " [[ 1  4]\n",
            " [ 9 25]]\n",
            "Dot product of v and w: 219\n",
            "Dot product of x and v:\n",
            " [29 77]\n",
            "Dot product of x and y:\n",
            " [[19 22]\n",
            " [50 58]]\n",
            "Concatenation of x and y along rows:\n",
            " [[1 2]\n",
            " [3 5]\n",
            " [5 6]\n",
            " [7 8]]\n",
            "Concatenation of v and w along columns:\n",
            " [[ 9 11]\n",
            " [10 12]]\n",
            "Error while concatenating x and v: all the input arrays must have same number of dimensions, but the array at index 0 has 2 dimension(s) and the array at index 1 has 1 dimension(s)\n"
          ]
        }
      ]
    },
    {
      "cell_type": "markdown",
      "source": [
        "Problem - 4: Matrix Operations:\n",
        "• For the following arrays:\n",
        "A = np.array([[3,4],[7,8]]) and B = np.array([[5,3],[2,1]]);\n",
        "Prove following with Numpy:\n",
        "1. Prove A.A−1 = I.\n",
        "2. Prove AB ̸= BA.\n",
        "3. Prove (AB)T = BTAT.\n",
        "• Solve the following system of Linear equation using Inverse Methods.\n",
        "2x − 3y + z = −1\n",
        "x − y + 2z = −3\n",
        "3x + y − z = 9\n",
        "{Hint: First use Numpy array to represent the equation in Matrix form. Then Solve for: AX = B}\n",
        "• Now: solve the above equation using np.linalg.inv function.{Explore more about ”linalg” func tion of Numpy}\n"
      ],
      "metadata": {
        "id": "De4NH_JTqBqy"
      }
    },
    {
      "cell_type": "code",
      "source": [
        "import numpy as np\n",
        "A = np.array([[3, 4], [7, 8]])\n",
        "B = np.array([[5, 3], [2, 1]])\n",
        "\n",
        "A_inv = np.linalg.inv(A)\n",
        "I = np.dot(A, A_inv)\n",
        "\n",
        "print(\"A * A^(-1) (Should be Identity Matrix):\\n\", np.round(I, decimals=5))\n",
        "AB = np.dot(A, B)\n",
        "BA = np.dot(B, A)\n",
        "\n",
        "print(\"AB:\\n\", AB)\n",
        "print(\"BA:\\n\", BA)\n",
        "print(\"Is AB equal to BA? \", np.array_equal(AB, BA))\n",
        "\n",
        "AB_T = np.transpose(AB)\n",
        "BT_AT = np.dot(np.transpose(B), np.transpose(A))\n",
        "\n",
        "print(\"(AB)^T:\\n\", AB_T)\n",
        "print(\"B^T * A^T:\\n\", BT_AT)\n",
        "print(\"Is (AB)^T equal to B^T * A^T? \", np.array_equal(AB_T, BT_AT))\n",
        "# Given system of equations:\n",
        "# 2x - 3y +  z  = -1\n",
        "#  x -  y + 2z  = -3\n",
        "# 3x +  y -  z  =  9\n",
        "A_matrix = np.array([[2, -3, 1], [1, -1, 2], [3, 1, -1]])\n",
        "B_matrix = np.array([-1, -3, 9])\n",
        "A_inv_matrix = np.linalg.inv(A_matrix)\n",
        "X = np.dot(A_inv_matrix, B_matrix)\n",
        "print(\"Solution for [x, y, z]:\", X)\n"
      ],
      "metadata": {
        "colab": {
          "base_uri": "https://localhost:8080/"
        },
        "id": "akazgtWNqD6C",
        "outputId": "c5287672-8dd6-470b-a230-4b05d337e05d"
      },
      "execution_count": 27,
      "outputs": [
        {
          "output_type": "stream",
          "name": "stdout",
          "text": [
            "A * A^(-1) (Should be Identity Matrix):\n",
            " [[1. 0.]\n",
            " [0. 1.]]\n",
            "AB:\n",
            " [[23 13]\n",
            " [51 29]]\n",
            "BA:\n",
            " [[36 44]\n",
            " [13 16]]\n",
            "Is AB equal to BA?  False\n",
            "(AB)^T:\n",
            " [[23 51]\n",
            " [13 29]]\n",
            "B^T * A^T:\n",
            " [[23 51]\n",
            " [13 29]]\n",
            "Is (AB)^T equal to B^T * A^T?  True\n",
            "Solution for [x, y, z]: [ 2.  1. -2.]\n"
          ]
        }
      ]
    },
    {
      "cell_type": "markdown",
      "source": [
        "### 10.2 Experiment: How Fast is Numpy?"
      ],
      "metadata": {
        "id": "oRqEgqTqqQI7"
      }
    },
    {
      "cell_type": "markdown",
      "source": [
        "1. Element-wise Addition:\n",
        "• Using Python Lists, perform element-wise addition of two lists of size 1, 000, 000. Measure and Print the time taken for this operation.\n",
        "• Using Numpy Arrays, Repeat the calculation and measure and print the time taken for this operation.\n"
      ],
      "metadata": {
        "id": "lvcvwsCXqW5i"
      }
    },
    {
      "cell_type": "code",
      "source": [
        "import numpy as np\n",
        "import time\n",
        "\n",
        "size = 1_000_000\n",
        "list1 = list(range(size))\n",
        "list2 = list(range(size))\n",
        "start_time = time.time()\n",
        "result_list = [a + b for a, b in zip(list1, list2)]\n",
        "end_time = time.time()\n",
        "print(f\"Time taken using Python lists: {end_time - start_time:.5f} seconds\")\n",
        "array1 = np.arange(size)\n",
        "array2 = np.arange(size)\n",
        "start_time = time.time()\n",
        "result_array = array1 + array2\n",
        "end_time = time.time()\n",
        "print(f\"Time taken using NumPy arrays: {end_time - start_time:.5f} seconds\")\n"
      ],
      "metadata": {
        "colab": {
          "base_uri": "https://localhost:8080/"
        },
        "id": "pwYuXpHoqXjA",
        "outputId": "96240272-9696-4517-ec9a-a18da618d91c"
      },
      "execution_count": 28,
      "outputs": [
        {
          "output_type": "stream",
          "name": "stdout",
          "text": [
            "Time taken using Python lists: 0.07807 seconds\n",
            "Time taken using NumPy arrays: 0.00637 seconds\n"
          ]
        }
      ]
    },
    {
      "cell_type": "markdown",
      "source": [
        "2. Element-wise Multiplication\n",
        "• Using Python Lists, perform element-wise multiplication of two lists of size 1, 000, 000. Measure and Print the time taken for this operation.\n",
        "• Using Numpy Arrays, Repeat the calculation and measure and print the time taken for this operation.\n"
      ],
      "metadata": {
        "id": "RCNnZgI2qfVA"
      }
    },
    {
      "cell_type": "code",
      "source": [
        "import numpy as np\n",
        "import time\n",
        "\n",
        "size = 1_000_000\n",
        "list1 = list(range(1, size + 1))\n",
        "list2 = list(range(1, size + 1))\n",
        "\n",
        "start_time = time.time()\n",
        "result_list = [a * b for a, b in zip(list1, list2)]\n",
        "end_time = time.time()\n",
        "print(f\"Time taken using Python lists: {end_time - start_time:.5f} seconds\")\n",
        "array1 = np.arange(1, size + 1)\n",
        "array2 = np.arange(1, size + 1)\n",
        "\n",
        "start_time = time.time()\n",
        "result_array = array1 * array2\n",
        "end_time = time.time()\n",
        "print(f\"Time taken using NumPy arrays: {end_time - start_time:.5f} seconds\")\n"
      ],
      "metadata": {
        "colab": {
          "base_uri": "https://localhost:8080/"
        },
        "id": "f4uaXq7fqg3t",
        "outputId": "adc854b2-c163-4e44-e25b-cb772271a94b"
      },
      "execution_count": 29,
      "outputs": [
        {
          "output_type": "stream",
          "name": "stdout",
          "text": [
            "Time taken using Python lists: 0.10854 seconds\n",
            "Time taken using NumPy arrays: 0.00564 seconds\n"
          ]
        }
      ]
    },
    {
      "cell_type": "markdown",
      "source": [
        "3. Dot Product\n",
        "• Using Python Lists, compute the dot product of two lists of size 1, 000, 000. Measure and Print the time taken for this operation.\n",
        "• Using Numpy Arrays, Repeat the calculation and measure and print the time taken for this operation.\n"
      ],
      "metadata": {
        "id": "r1nEqUQ8qoVS"
      }
    },
    {
      "cell_type": "code",
      "source": [
        "import numpy as np\n",
        "import time\n",
        "size = 1_000_000\n",
        "list1 = list(range(1, size + 1))\n",
        "list2 = list(range(1, size + 1))\n",
        "\n",
        "start_time = time.time()\n",
        "dot_product_list = sum(a * b for a, b in zip(list1, list2))\n",
        "end_time = time.time()\n",
        "print(f\"Dot product using Python lists: {dot_product_list}\")\n",
        "print(f\"Time taken using Python lists: {end_time - start_time:.5f} seconds\")\n",
        "\n",
        "array1 = np.arange(1, size + 1)\n",
        "array2 = np.arange(1, size + 1)\n",
        "start_time = time.time()\n",
        "dot_product_array = np.dot(array1, array2)\n",
        "end_time = time.time()\n",
        "print(f\"Dot product using NumPy arrays: {dot_product_array}\")\n",
        "print(f\"Time taken using NumPy arrays: {end_time - start_time:.5f} seconds\")\n"
      ],
      "metadata": {
        "colab": {
          "base_uri": "https://localhost:8080/"
        },
        "id": "LE26tK1Pqpj5",
        "outputId": "80855902-ef49-40bc-ca78-5028b1d8b988"
      },
      "execution_count": 30,
      "outputs": [
        {
          "output_type": "stream",
          "name": "stdout",
          "text": [
            "Dot product using Python lists: 333333833333500000\n",
            "Time taken using Python lists: 0.10875 seconds\n",
            "Dot product using NumPy arrays: 333333833333500000\n",
            "Time taken using NumPy arrays: 0.00168 seconds\n"
          ]
        }
      ]
    },
    {
      "cell_type": "markdown",
      "source": [
        "4. Matrix Multiplication\n",
        "• Using Python lists, perform matrix multiplication of two matrices of size 1000x1000. Mea sure and print the time taken for this operation.\n",
        "• Using NumPy arrays, perform matrix multiplication of two matrices of size 1000x1000. Measure and print the time taken for this operation.\n"
      ],
      "metadata": {
        "id": "13-shQhlq2MF"
      }
    },
    {
      "cell_type": "code",
      "source": [
        "import numpy as np\n",
        "import time\n",
        "\n",
        "\n",
        "size = 1000\n",
        "matrix1 = [[i * j for j in range(size)] for i in range(size)]\n",
        "matrix2 = [[j * i for j in range(size)] for i in range(size)]\n",
        "start_time = time.time()\n",
        "result_matrix = [[sum(a * b for a, b in zip(row, col)) for col in zip(*matrix2)] for row in matrix1]\n",
        "end_time = time.time()\n",
        "print(f\"Time taken using Python lists: {end_time - start_time:.5f} seconds\")\n",
        "array1 = np.random.rand(size, size)\n",
        "array2 = np.random.rand(size, size)\n",
        "start_time = time.time()\n",
        "result_array = np.dot(array1, array2)\n",
        "end_time = time.time()\n",
        "print(f\"Time taken using NumPy arrays: {end_time - start_time:.5f} seconds\")\n"
      ],
      "metadata": {
        "id": "GljMAM4aq30L"
      },
      "execution_count": null,
      "outputs": []
    }
  ]
}